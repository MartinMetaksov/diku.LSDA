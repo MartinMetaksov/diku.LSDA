{
 "cells": [
  {
   "cell_type": "code",
   "execution_count": 1,
   "metadata": {
    "collapsed": false,
    "deletable": true,
    "editable": true
   },
   "outputs": [],
   "source": [
    "#       keep the memory allocated for the machine to 2GB!\n",
    "\n",
    "import numpy as np\n",
    "from sklearn.neighbors import KNeighborsRegressor\n",
    "\n",
    "def zero_one_error_labels(y, y_hat):\n",
    "    return np.sum(y_hat == y)\n",
    "\n",
    "def mse (y,y_hat):\n",
    "    return np.mean(np.power(y-y_hat,2))\n"
   ]
  },
  {
   "cell_type": "code",
   "execution_count": 2,
   "metadata": {
    "collapsed": false,
    "deletable": true,
    "editable": true,
    "scrolled": true
   },
   "outputs": [
    {
     "name": "stdout",
     "output_type": "stream",
     "text": [
      "Loading training data ...\n",
      "Loaded training data: n=100000, d=15\n",
      "Loading testing data ...\n",
      "Loaded testing data: n=1000000, d=15\n"
     ]
    }
   ],
   "source": [
    "# load data\n",
    "print(\"Loading training data ...\")\n",
    "data_train = np.genfromtxt(\"../../data/neighbors/train.csv\", comments=\"#\", delimiter=\",\")\n",
    "Xtrain, ytrain = data_train[:,:-1], data_train[:,-1]\n",
    "print(\"Loaded training data: n=%i, d=%i\" % (Xtrain.shape[0], Xtrain.shape[1]))\n",
    "\n",
    "# testing phase (apply model to a big test set!)\n",
    "print(\"Loading testing data ...\")\n",
    "data_test = np.genfromtxt(\"../../data/neighbors/test.csv\", comments=\"#\", delimiter=\",\")\n",
    "Xtest, ytest = data_test[:,:-1], data_test[:,-1]\n",
    "print(\"Loaded testing data: n=%i, d=%i\" % (Xtest.shape[0], Xtest.shape[1]))\n"
   ]
  },
  {
   "cell_type": "code",
   "execution_count": 3,
   "metadata": {
    "collapsed": false,
    "deletable": true,
    "editable": true,
    "scrolled": true
   },
   "outputs": [
    {
     "name": "stdout",
     "output_type": "stream",
     "text": [
      "Loading validation data ...\n",
      "Loaded validation data: n=100000, d=15\n"
     ]
    }
   ],
   "source": [
    "print(\"Loading validation data ...\")\n",
    "data_validation = np.genfromtxt(\"../../data/neighbors/validation.csv\", comments=\"#\", delimiter=\",\")\n",
    "Xvd, yvd = data_validation[:,:-1], data_validation[:,-1]\n",
    "print(\"Loaded validation data: n=%i, d=%i\" % (Xvd.shape[0], Xvd.shape[1]))\n"
   ]
  },
  {
   "cell_type": "code",
   "execution_count": 4,
   "metadata": {
    "collapsed": false,
    "deletable": true,
    "editable": true
   },
   "outputs": [
    {
     "name": "stdout",
     "output_type": "stream",
     "text": [
      "Fitting model ...\n",
      "CPU times: user 368 ms, sys: 28 ms, total: 396 ms\n",
      "Wall time: 693 ms\n",
      "Model fitted!\n",
      "Applying model ...\n",
      "CPU times: user 5min 40s, sys: 836 ms, total: 5min 41s\n",
      "Wall time: 5min 41s\n",
      "Predictions computed for 1000000 patterns ...!\n",
      "Mean of predictions: 0.351215\n"
     ]
    }
   ],
   "source": [
    "# training phase\n",
    "print(\"Fitting model ...\")\n",
    "# nearest neighbor regression model (DO NOT CHANGE PARAMETERS!)\n",
    "model = KNeighborsRegressor(n_neighbors=10, algorithm=\"kd_tree\")\n",
    "%time model.fit(Xtrain, ytrain)\n",
    "print(\"Model fitted!\")\n",
    "\n",
    "print(\"Applying model ...\")\n",
    "% time preds = model.predict(Xtest)\n",
    "\n",
    "# output (here, 'preds' must be a list containing all predictions)\n",
    "print(\"Predictions computed for %i patterns ...!\" % len(preds))\n",
    "print(\"Mean of predictions: %f\" % np.mean(np.array(preds)))"
   ]
  },
  {
   "cell_type": "code",
   "execution_count": 5,
   "metadata": {
    "collapsed": false,
    "deletable": true,
    "editable": true
   },
   "outputs": [
    {
     "name": "stdout",
     "output_type": "stream",
     "text": [
      "Mean Squared Error on test: 0.225451\n"
     ]
    }
   ],
   "source": [
    "print (\"Mean Squared Error on test: %f\" % mse(ytest,preds))"
   ]
  },
  {
   "cell_type": "code",
   "execution_count": 6,
   "metadata": {
    "collapsed": false,
    "deletable": true,
    "editable": true
   },
   "outputs": [
    {
     "name": "stdout",
     "output_type": "stream",
     "text": [
      "Loaded training data: n=100000, d=5\n",
      "Fitting model ...\n",
      "CPU times: user 236 ms, sys: 0 ns, total: 236 ms\n",
      "Wall time: 237 ms\n",
      "Model fitted!\n",
      "Applying model ...\n",
      "CPU times: user 52.8 s, sys: 612 ms, total: 53.4 s\n",
      "Wall time: 53.5 s\n",
      "Predictions computed for 1000000 patterns ...!\n",
      "Mean of predictions: 0.351215\n"
     ]
    }
   ],
   "source": [
    "# select only first 5 columns from the train data\n",
    "Xtrain_5feat = data_train[:,0:5]\n",
    "\n",
    "print(\"Loaded training data: n=%i, d=%i\" % (Xtrain_5feat.shape[0], Xtrain_5feat.shape[1]))\n",
    "\n",
    "# training phase\n",
    "print(\"Fitting model ...\")\n",
    "%time model.fit(Xtrain_5feat, ytrain)\n",
    "print(\"Model fitted!\")\n",
    "\n",
    "# testing phase (apply model to a big test set!)\n",
    "Xtest_5feat = data_test[:,0:5]\n",
    "\n",
    "print(\"Applying model ...\")\n",
    "%time preds_5feat = model.predict(Xtest_5feat)\n",
    "\n",
    "# output (here, 'preds' must be a list containing all predictions)\n",
    "print(\"Predictions computed for %i patterns ...!\" % len(preds))\n",
    "print(\"Mean of predictions: %f\" % np.mean(np.array(preds)))"
   ]
  },
  {
   "cell_type": "code",
   "execution_count": 8,
   "metadata": {
    "collapsed": false,
    "deletable": true,
    "editable": true
   },
   "outputs": [
    {
     "name": "stdout",
     "output_type": "stream",
     "text": [
      "Mean Squared Error on test using only 5 features: 0.246566\n"
     ]
    }
   ],
   "source": [
    "print(\"Mean Squared Error on test using only 5 features: %f\" % mse(ytest,preds_5feat))"
   ]
  },
  {
   "cell_type": "code",
   "execution_count": 10,
   "metadata": {
    "collapsed": false,
    "deletable": true,
    "editable": true
   },
   "outputs": [
    {
     "name": "stdout",
     "output_type": "stream",
     "text": [
      "Fitting for columns [0] ...\n",
      "CPU times: user 276 ms, sys: 0 ns, total: 276 ms\n",
      "Wall time: 273 ms\n",
      "Fitting for columns [1] ...\n",
      "CPU times: user 184 ms, sys: 0 ns, total: 184 ms\n",
      "Wall time: 186 ms\n",
      "Fitting for columns [2] ...\n",
      "CPU times: user 208 ms, sys: 0 ns, total: 208 ms\n",
      "Wall time: 209 ms\n",
      "Fitting for columns [3] ...\n",
      "CPU times: user 272 ms, sys: 0 ns, total: 272 ms\n",
      "Wall time: 270 ms\n",
      "Fitting for columns [4] ...\n",
      "CPU times: user 228 ms, sys: 0 ns, total: 228 ms\n",
      "Wall time: 230 ms\n",
      "Fitting for columns [5] ...\n",
      "CPU times: user 208 ms, sys: 0 ns, total: 208 ms\n",
      "Wall time: 210 ms\n",
      "Fitting for columns [6] ...\n",
      "CPU times: user 228 ms, sys: 0 ns, total: 228 ms\n",
      "Wall time: 229 ms\n",
      "Fitting for columns [7] ...\n",
      "CPU times: user 244 ms, sys: 0 ns, total: 244 ms\n",
      "Wall time: 241 ms\n",
      "Fitting for columns [8] ...\n",
      "CPU times: user 216 ms, sys: 0 ns, total: 216 ms\n",
      "Wall time: 217 ms\n",
      "Fitting for columns [9] ...\n",
      "CPU times: user 208 ms, sys: 0 ns, total: 208 ms\n",
      "Wall time: 211 ms\n",
      "Fitting for columns [10] ...\n",
      "CPU times: user 248 ms, sys: 0 ns, total: 248 ms\n",
      "Wall time: 258 ms\n",
      "Fitting for columns [11] ...\n",
      "CPU times: user 228 ms, sys: 0 ns, total: 228 ms\n",
      "Wall time: 228 ms\n",
      "Fitting for columns [12] ...\n",
      "CPU times: user 200 ms, sys: 0 ns, total: 200 ms\n",
      "Wall time: 200 ms\n",
      "Fitting for columns [13] ...\n",
      "CPU times: user 240 ms, sys: 0 ns, total: 240 ms\n",
      "Wall time: 242 ms\n",
      "Fitting for columns [14] ...\n",
      "CPU times: user 212 ms, sys: 0 ns, total: 212 ms\n",
      "Wall time: 212 ms\n",
      "Fitting for columns [9, 0] ...\n",
      "CPU times: user 96 ms, sys: 0 ns, total: 96 ms\n",
      "Wall time: 95.4 ms\n",
      "Fitting for columns [9, 1] ...\n",
      "CPU times: user 84 ms, sys: 0 ns, total: 84 ms\n",
      "Wall time: 83.4 ms\n",
      "Fitting for columns [9, 2] ...\n",
      "CPU times: user 104 ms, sys: 0 ns, total: 104 ms\n",
      "Wall time: 104 ms\n",
      "Fitting for columns [9, 3] ...\n",
      "CPU times: user 88 ms, sys: 0 ns, total: 88 ms\n",
      "Wall time: 88.5 ms\n",
      "Fitting for columns [9, 4] ...\n",
      "CPU times: user 100 ms, sys: 0 ns, total: 100 ms\n",
      "Wall time: 101 ms\n",
      "Fitting for columns [9, 5] ...\n",
      "CPU times: user 112 ms, sys: 0 ns, total: 112 ms\n",
      "Wall time: 112 ms\n",
      "Fitting for columns [9, 6] ...\n",
      "CPU times: user 84 ms, sys: 0 ns, total: 84 ms\n",
      "Wall time: 83 ms\n",
      "Fitting for columns [9, 7] ...\n",
      "CPU times: user 92 ms, sys: 0 ns, total: 92 ms\n",
      "Wall time: 92 ms\n",
      "Fitting for columns [9, 8] ...\n",
      "CPU times: user 140 ms, sys: 0 ns, total: 140 ms\n",
      "Wall time: 137 ms\n",
      "Fitting for columns [9, 10] ...\n",
      "CPU times: user 136 ms, sys: 0 ns, total: 136 ms\n",
      "Wall time: 137 ms\n",
      "Fitting for columns [9, 11] ...\n",
      "CPU times: user 68 ms, sys: 0 ns, total: 68 ms\n",
      "Wall time: 67.7 ms\n",
      "Fitting for columns [9, 12] ...\n",
      "CPU times: user 120 ms, sys: 0 ns, total: 120 ms\n",
      "Wall time: 121 ms\n",
      "Fitting for columns [9, 13] ...\n",
      "CPU times: user 116 ms, sys: 0 ns, total: 116 ms\n",
      "Wall time: 113 ms\n",
      "Fitting for columns [9, 14] ...\n",
      "CPU times: user 116 ms, sys: 0 ns, total: 116 ms\n",
      "Wall time: 117 ms\n",
      "Fitting for columns [9, 0, 1] ...\n",
      "CPU times: user 88 ms, sys: 0 ns, total: 88 ms\n",
      "Wall time: 87.2 ms\n",
      "Fitting for columns [9, 0, 2] ...\n",
      "CPU times: user 88 ms, sys: 0 ns, total: 88 ms\n",
      "Wall time: 87.8 ms\n",
      "Fitting for columns [9, 0, 3] ...\n",
      "CPU times: user 112 ms, sys: 0 ns, total: 112 ms\n",
      "Wall time: 113 ms\n",
      "Fitting for columns [9, 0, 4] ...\n",
      "CPU times: user 172 ms, sys: 0 ns, total: 172 ms\n",
      "Wall time: 173 ms\n",
      "Fitting for columns [9, 0, 5] ...\n",
      "CPU times: user 124 ms, sys: 4 ms, total: 128 ms\n",
      "Wall time: 125 ms\n",
      "Fitting for columns [9, 0, 6] ...\n",
      "CPU times: user 140 ms, sys: 0 ns, total: 140 ms\n",
      "Wall time: 140 ms\n",
      "Fitting for columns [9, 0, 7] ...\n",
      "CPU times: user 152 ms, sys: 0 ns, total: 152 ms\n",
      "Wall time: 150 ms\n",
      "Fitting for columns [9, 0, 8] ...\n",
      "CPU times: user 184 ms, sys: 0 ns, total: 184 ms\n",
      "Wall time: 184 ms\n",
      "Fitting for columns [9, 0, 10] ...\n",
      "CPU times: user 100 ms, sys: 0 ns, total: 100 ms\n",
      "Wall time: 99.6 ms\n",
      "Fitting for columns [9, 0, 11] ...\n",
      "CPU times: user 124 ms, sys: 0 ns, total: 124 ms\n",
      "Wall time: 122 ms\n",
      "Fitting for columns [9, 0, 12] ...\n",
      "CPU times: user 160 ms, sys: 0 ns, total: 160 ms\n",
      "Wall time: 156 ms\n",
      "Fitting for columns [9, 0, 13] ...\n",
      "CPU times: user 116 ms, sys: 0 ns, total: 116 ms\n",
      "Wall time: 115 ms\n",
      "Fitting for columns [9, 0, 14] ...\n",
      "CPU times: user 152 ms, sys: 0 ns, total: 152 ms\n",
      "Wall time: 154 ms\n",
      "Fitting for columns [9, 0, 2, 1] ...\n",
      "CPU times: user 108 ms, sys: 0 ns, total: 108 ms\n",
      "Wall time: 109 ms\n",
      "Fitting for columns [9, 0, 2, 3] ...\n",
      "CPU times: user 100 ms, sys: 0 ns, total: 100 ms\n",
      "Wall time: 99.8 ms\n",
      "Fitting for columns [9, 0, 2, 4] ...\n",
      "CPU times: user 116 ms, sys: 0 ns, total: 116 ms\n",
      "Wall time: 114 ms\n",
      "Fitting for columns [9, 0, 2, 5] ...\n",
      "CPU times: user 176 ms, sys: 0 ns, total: 176 ms\n",
      "Wall time: 176 ms\n",
      "Fitting for columns [9, 0, 2, 6] ...\n",
      "CPU times: user 128 ms, sys: 0 ns, total: 128 ms\n",
      "Wall time: 128 ms\n",
      "Fitting for columns [9, 0, 2, 7] ...\n",
      "CPU times: user 208 ms, sys: 0 ns, total: 208 ms\n",
      "Wall time: 211 ms\n",
      "Fitting for columns [9, 0, 2, 8] ...\n",
      "CPU times: user 144 ms, sys: 0 ns, total: 144 ms\n",
      "Wall time: 147 ms\n",
      "Fitting for columns [9, 0, 2, 10] ...\n",
      "CPU times: user 188 ms, sys: 0 ns, total: 188 ms\n",
      "Wall time: 186 ms\n",
      "Fitting for columns [9, 0, 2, 11] ...\n",
      "CPU times: user 108 ms, sys: 0 ns, total: 108 ms\n",
      "Wall time: 108 ms\n",
      "Fitting for columns [9, 0, 2, 12] ...\n",
      "CPU times: user 172 ms, sys: 0 ns, total: 172 ms\n",
      "Wall time: 170 ms\n",
      "Fitting for columns [9, 0, 2, 13] ...\n",
      "CPU times: user 120 ms, sys: 0 ns, total: 120 ms\n",
      "Wall time: 120 ms\n",
      "Fitting for columns [9, 0, 2, 14] ...\n",
      "CPU times: user 128 ms, sys: 0 ns, total: 128 ms\n",
      "Wall time: 126 ms\n",
      "Fitting for columns [9, 0, 2, 6, 1] ...\n",
      "CPU times: user 180 ms, sys: 4 ms, total: 184 ms\n",
      "Wall time: 181 ms\n",
      "Fitting for columns [9, 0, 2, 6, 3] ...\n",
      "CPU times: user 136 ms, sys: 0 ns, total: 136 ms\n",
      "Wall time: 138 ms\n",
      "Fitting for columns [9, 0, 2, 6, 4] ...\n",
      "CPU times: user 188 ms, sys: 0 ns, total: 188 ms\n",
      "Wall time: 188 ms\n",
      "Fitting for columns [9, 0, 2, 6, 5] ...\n",
      "CPU times: user 120 ms, sys: 0 ns, total: 120 ms\n",
      "Wall time: 120 ms\n",
      "Fitting for columns [9, 0, 2, 6, 7] ...\n",
      "CPU times: user 168 ms, sys: 0 ns, total: 168 ms\n",
      "Wall time: 172 ms\n",
      "Fitting for columns [9, 0, 2, 6, 8] ...\n",
      "CPU times: user 136 ms, sys: 0 ns, total: 136 ms\n",
      "Wall time: 138 ms\n",
      "Fitting for columns [9, 0, 2, 6, 10] ...\n",
      "CPU times: user 236 ms, sys: 20 ms, total: 256 ms\n",
      "Wall time: 254 ms\n",
      "Fitting for columns [9, 0, 2, 6, 11] ...\n",
      "CPU times: user 124 ms, sys: 0 ns, total: 124 ms\n",
      "Wall time: 126 ms\n",
      "Fitting for columns [9, 0, 2, 6, 12] ...\n",
      "CPU times: user 116 ms, sys: 0 ns, total: 116 ms\n",
      "Wall time: 115 ms\n",
      "Fitting for columns [9, 0, 2, 6, 13] ...\n",
      "CPU times: user 144 ms, sys: 0 ns, total: 144 ms\n",
      "Wall time: 144 ms\n",
      "Fitting for columns [9, 0, 2, 6, 14] ...\n",
      "CPU times: user 220 ms, sys: 0 ns, total: 220 ms\n",
      "Wall time: 219 ms\n",
      "Fitting for columns [9, 0, 2, 6, 8, 1] ...\n",
      "CPU times: user 136 ms, sys: 0 ns, total: 136 ms\n",
      "Wall time: 136 ms\n",
      "Fitting for columns [9, 0, 2, 6, 8, 3] ...\n",
      "CPU times: user 176 ms, sys: 0 ns, total: 176 ms\n",
      "Wall time: 179 ms\n",
      "Fitting for columns [9, 0, 2, 6, 8, 4] ...\n",
      "CPU times: user 164 ms, sys: 0 ns, total: 164 ms\n",
      "Wall time: 163 ms\n",
      "Fitting for columns [9, 0, 2, 6, 8, 5] ...\n",
      "CPU times: user 140 ms, sys: 0 ns, total: 140 ms\n",
      "Wall time: 140 ms\n",
      "Fitting for columns [9, 0, 2, 6, 8, 7] ...\n",
      "CPU times: user 148 ms, sys: 0 ns, total: 148 ms\n",
      "Wall time: 147 ms\n",
      "Fitting for columns [9, 0, 2, 6, 8, 10] ...\n",
      "CPU times: user 156 ms, sys: 0 ns, total: 156 ms\n",
      "Wall time: 153 ms\n",
      "Fitting for columns [9, 0, 2, 6, 8, 11] ...\n",
      "CPU times: user 148 ms, sys: 0 ns, total: 148 ms\n",
      "Wall time: 148 ms\n",
      "Fitting for columns [9, 0, 2, 6, 8, 12] ...\n",
      "CPU times: user 120 ms, sys: 0 ns, total: 120 ms\n",
      "Wall time: 122 ms\n",
      "Fitting for columns [9, 0, 2, 6, 8, 13] ...\n",
      "CPU times: user 228 ms, sys: 0 ns, total: 228 ms\n",
      "Wall time: 227 ms\n",
      "Fitting for columns [9, 0, 2, 6, 8, 14] ...\n",
      "CPU times: user 160 ms, sys: 0 ns, total: 160 ms\n",
      "Wall time: 157 ms\n",
      "Fitting for columns [9, 0, 2, 6, 8, 12, 1] ...\n",
      "CPU times: user 164 ms, sys: 0 ns, total: 164 ms\n",
      "Wall time: 165 ms\n",
      "Fitting for columns [9, 0, 2, 6, 8, 12, 3] ...\n",
      "CPU times: user 184 ms, sys: 4 ms, total: 188 ms\n",
      "Wall time: 185 ms\n",
      "Fitting for columns [9, 0, 2, 6, 8, 12, 4] ...\n",
      "CPU times: user 188 ms, sys: 0 ns, total: 188 ms\n",
      "Wall time: 190 ms\n",
      "Fitting for columns [9, 0, 2, 6, 8, 12, 5] ...\n",
      "CPU times: user 164 ms, sys: 0 ns, total: 164 ms\n",
      "Wall time: 164 ms\n",
      "Fitting for columns [9, 0, 2, 6, 8, 12, 7] ...\n",
      "CPU times: user 164 ms, sys: 0 ns, total: 164 ms\n",
      "Wall time: 165 ms\n",
      "Fitting for columns [9, 0, 2, 6, 8, 12, 10] ...\n",
      "CPU times: user 200 ms, sys: 0 ns, total: 200 ms\n",
      "Wall time: 198 ms\n",
      "Fitting for columns [9, 0, 2, 6, 8, 12, 11] ...\n",
      "CPU times: user 180 ms, sys: 0 ns, total: 180 ms\n",
      "Wall time: 177 ms\n",
      "Fitting for columns [9, 0, 2, 6, 8, 12, 13] ...\n",
      "CPU times: user 200 ms, sys: 0 ns, total: 200 ms\n",
      "Wall time: 199 ms\n",
      "Fitting for columns [9, 0, 2, 6, 8, 12, 14] ...\n",
      "CPU times: user 184 ms, sys: 0 ns, total: 184 ms\n",
      "Wall time: 183 ms\n",
      "Fitting for columns [9, 0, 2, 6, 8, 12, 11, 1] ...\n",
      "CPU times: user 188 ms, sys: 0 ns, total: 188 ms\n",
      "Wall time: 189 ms\n",
      "Fitting for columns [9, 0, 2, 6, 8, 12, 11, 3] ...\n",
      "CPU times: user 188 ms, sys: 0 ns, total: 188 ms\n",
      "Wall time: 189 ms\n",
      "Fitting for columns [9, 0, 2, 6, 8, 12, 11, 4] ...\n",
      "CPU times: user 208 ms, sys: 4 ms, total: 212 ms\n",
      "Wall time: 213 ms\n",
      "Fitting for columns [9, 0, 2, 6, 8, 12, 11, 5] ...\n",
      "CPU times: user 184 ms, sys: 0 ns, total: 184 ms\n",
      "Wall time: 182 ms\n",
      "Fitting for columns [9, 0, 2, 6, 8, 12, 11, 7] ...\n",
      "CPU times: user 268 ms, sys: 0 ns, total: 268 ms\n",
      "Wall time: 267 ms\n",
      "Fitting for columns [9, 0, 2, 6, 8, 12, 11, 10] ...\n",
      "CPU times: user 200 ms, sys: 0 ns, total: 200 ms\n",
      "Wall time: 203 ms\n",
      "Fitting for columns [9, 0, 2, 6, 8, 12, 11, 13] ...\n",
      "CPU times: user 224 ms, sys: 0 ns, total: 224 ms\n",
      "Wall time: 222 ms\n",
      "Fitting for columns [9, 0, 2, 6, 8, 12, 11, 14] ...\n",
      "CPU times: user 220 ms, sys: 0 ns, total: 220 ms\n",
      "Wall time: 220 ms\n",
      "Fitting for columns [9, 0, 2, 6, 8, 12, 11, 1, 3] ...\n",
      "CPU times: user 220 ms, sys: 0 ns, total: 220 ms\n",
      "Wall time: 222 ms\n",
      "Fitting for columns [9, 0, 2, 6, 8, 12, 11, 1, 4] ...\n",
      "CPU times: user 200 ms, sys: 0 ns, total: 200 ms\n",
      "Wall time: 202 ms\n",
      "Fitting for columns [9, 0, 2, 6, 8, 12, 11, 1, 5] ...\n",
      "CPU times: user 212 ms, sys: 0 ns, total: 212 ms\n",
      "Wall time: 210 ms\n",
      "Fitting for columns [9, 0, 2, 6, 8, 12, 11, 1, 7] ...\n",
      "CPU times: user 196 ms, sys: 0 ns, total: 196 ms\n",
      "Wall time: 197 ms\n",
      "Fitting for columns [9, 0, 2, 6, 8, 12, 11, 1, 10] ...\n",
      "CPU times: user 292 ms, sys: 4 ms, total: 296 ms\n",
      "Wall time: 299 ms\n",
      "Fitting for columns [9, 0, 2, 6, 8, 12, 11, 1, 13] ...\n",
      "CPU times: user 200 ms, sys: 0 ns, total: 200 ms\n",
      "Wall time: 201 ms\n",
      "Fitting for columns [9, 0, 2, 6, 8, 12, 11, 1, 14] ...\n",
      "CPU times: user 192 ms, sys: 0 ns, total: 192 ms\n",
      "Wall time: 194 ms\n",
      "Fitting for columns [9, 0, 2, 6, 8, 12, 11, 1, 7, 3] ...\n",
      "CPU times: user 232 ms, sys: 0 ns, total: 232 ms\n",
      "Wall time: 231 ms\n",
      "Fitting for columns [9, 0, 2, 6, 8, 12, 11, 1, 7, 4] ...\n",
      "CPU times: user 244 ms, sys: 0 ns, total: 244 ms\n",
      "Wall time: 244 ms\n",
      "Fitting for columns [9, 0, 2, 6, 8, 12, 11, 1, 7, 5] ...\n",
      "CPU times: user 208 ms, sys: 4 ms, total: 212 ms\n",
      "Wall time: 212 ms\n",
      "Fitting for columns [9, 0, 2, 6, 8, 12, 11, 1, 7, 10] ...\n",
      "CPU times: user 220 ms, sys: 0 ns, total: 220 ms\n",
      "Wall time: 218 ms\n",
      "Fitting for columns [9, 0, 2, 6, 8, 12, 11, 1, 7, 13] ...\n",
      "CPU times: user 280 ms, sys: 0 ns, total: 280 ms\n",
      "Wall time: 280 ms\n",
      "Fitting for columns [9, 0, 2, 6, 8, 12, 11, 1, 7, 14] ...\n",
      "CPU times: user 264 ms, sys: 0 ns, total: 264 ms\n",
      "Wall time: 265 ms\n",
      "Fitting for columns [9, 0, 2, 6, 8, 12, 11, 1, 7, 4, 3] ...\n",
      "CPU times: user 252 ms, sys: 0 ns, total: 252 ms\n",
      "Wall time: 252 ms\n",
      "Fitting for columns [9, 0, 2, 6, 8, 12, 11, 1, 7, 4, 5] ...\n",
      "CPU times: user 252 ms, sys: 0 ns, total: 252 ms\n",
      "Wall time: 254 ms\n",
      "Fitting for columns [9, 0, 2, 6, 8, 12, 11, 1, 7, 4, 10] ...\n",
      "CPU times: user 240 ms, sys: 0 ns, total: 240 ms\n",
      "Wall time: 241 ms\n",
      "Fitting for columns [9, 0, 2, 6, 8, 12, 11, 1, 7, 4, 13] ...\n",
      "CPU times: user 264 ms, sys: 0 ns, total: 264 ms\n",
      "Wall time: 263 ms\n",
      "Fitting for columns [9, 0, 2, 6, 8, 12, 11, 1, 7, 4, 14] ...\n",
      "CPU times: user 360 ms, sys: 0 ns, total: 360 ms\n",
      "Wall time: 360 ms\n",
      "Fitting for columns [9, 0, 2, 6, 8, 12, 11, 1, 7, 4, 13, 3] ...\n",
      "CPU times: user 304 ms, sys: 0 ns, total: 304 ms\n",
      "Wall time: 301 ms\n",
      "Fitting for columns [9, 0, 2, 6, 8, 12, 11, 1, 7, 4, 13, 5] ...\n",
      "CPU times: user 304 ms, sys: 4 ms, total: 308 ms\n",
      "Wall time: 309 ms\n",
      "Fitting for columns [9, 0, 2, 6, 8, 12, 11, 1, 7, 4, 13, 10] ...\n",
      "CPU times: user 260 ms, sys: 0 ns, total: 260 ms\n",
      "Wall time: 259 ms\n",
      "Fitting for columns [9, 0, 2, 6, 8, 12, 11, 1, 7, 4, 13, 14] ...\n",
      "CPU times: user 280 ms, sys: 0 ns, total: 280 ms\n",
      "Wall time: 279 ms\n",
      "Fitting for columns [9, 0, 2, 6, 8, 12, 11, 1, 7, 4, 13, 3, 5] ...\n",
      "CPU times: user 328 ms, sys: 0 ns, total: 328 ms\n",
      "Wall time: 327 ms\n",
      "Fitting for columns [9, 0, 2, 6, 8, 12, 11, 1, 7, 4, 13, 3, 10] ...\n",
      "CPU times: user 296 ms, sys: 0 ns, total: 296 ms\n",
      "Wall time: 298 ms\n",
      "Fitting for columns [9, 0, 2, 6, 8, 12, 11, 1, 7, 4, 13, 3, 14] ...\n",
      "CPU times: user 300 ms, sys: 0 ns, total: 300 ms\n",
      "Wall time: 299 ms\n",
      "Fitting for columns [9, 0, 2, 6, 8, 12, 11, 1, 7, 4, 13, 3, 5, 10] ...\n",
      "CPU times: user 340 ms, sys: 0 ns, total: 340 ms\n",
      "Wall time: 338 ms\n",
      "Fitting for columns [9, 0, 2, 6, 8, 12, 11, 1, 7, 4, 13, 3, 5, 14] ...\n",
      "CPU times: user 312 ms, sys: 0 ns, total: 312 ms\n",
      "Wall time: 312 ms\n",
      "Fitting for columns [9, 0, 2, 6, 8, 12, 11, 1, 7, 4, 13, 3, 5, 14, 10] ...\n",
      "CPU times: user 412 ms, sys: 0 ns, total: 412 ms\n",
      "Wall time: 414 ms\n"
     ]
    }
   ],
   "source": [
    "# Select the best features by iteratively selecting good features\n",
    "X_tr = data_train[:,:-1]\n",
    "X_vd = data_validation[:,:-1]\n",
    "n_feat = 15\n",
    "n = X_tr.shape[1]\n",
    "results = np.zeros([n_feat,n])\n",
    "fs = []\n",
    "for fi in range(n_feat):\n",
    "    n_features = fi+1\n",
    "    for i in range(n):\n",
    "        if i in fs :\n",
    "            continue\n",
    "        # select features , train and predict, keep training error\n",
    "        f = fs + [i]\n",
    "        Xtr = X_tr[:,f]\n",
    "        Xvd = X_vd[:,f]\n",
    "        print(\"Fitting for columns %s ...\" % str(f))\n",
    "        %time model.fit(Xtr, ytrain)\n",
    "        pred = model.predict(Xvd)\n",
    "        results[n_features-1,i] = mse(yvd, pred)\n",
    "    best = np.argsort(results,1)[n_features-1][fi]\n",
    "    fs.append(best);"
   ]
  },
  {
   "cell_type": "code",
   "execution_count": 14,
   "metadata": {
    "collapsed": false,
    "deletable": true,
    "editable": true
   },
   "outputs": [
    {
     "name": "stdout",
     "output_type": "stream",
     "text": [
      "Fitting for columns [9, 0, 2, 6, 8] ...\n",
      "CPU times: user 4.03 s, sys: 4 ms, total: 4.03 s\n",
      "Wall time: 4.04 s\n",
      "Best MSE is 0.187799 ...\n"
     ]
    }
   ],
   "source": [
    "# test with the 5 best features\n",
    "Xtr = X_tr[:,fs[0:5]]\n",
    "Xvd = X_vd[:,fs[0:5]]\n",
    "print(\"Fitting for columns %s ...\" % str(fs[0:5]))\n",
    "model.fit(Xtr, ytrain)\n",
    "%time pred = model.predict(Xvd)\n",
    "print(\"Best MSE is %f ...\" % mse(yvd, pred))"
   ]
  },
  {
   "cell_type": "code",
   "execution_count": 15,
   "metadata": {
    "collapsed": false,
    "deletable": true,
    "editable": true
   },
   "outputs": [
    {
     "data": {
      "text/plain": [
       "array([[ 9,  8, 13, 14, 12,  7,  4,  3, 11,  6,  2,  1,  5, 10,  0],\n",
       "       [ 9,  0,  5,  1,  6, 10, 11,  3,  2,  7,  8, 12,  4, 13, 14],\n",
       "       [ 0,  9,  2,  1,  7, 12,  6, 11,  3,  8, 13,  4,  5, 10, 14],\n",
       "       [ 0,  2,  9,  6, 11,  1,  8,  3, 13, 12,  7,  4,  5, 14, 10],\n",
       "       [ 0,  2,  6,  9,  8, 13,  3,  7, 12,  1, 11,  4,  5, 14, 10],\n",
       "       [ 0,  2,  6,  8,  9, 12,  4,  7, 11,  1,  3, 13,  5, 14, 10],\n",
       "       [ 0,  2,  6,  8,  9, 12, 11,  1,  4,  7,  3, 13, 14,  5, 10],\n",
       "       [ 0,  2,  6,  8,  9, 11, 12,  1,  7,  4,  3, 13,  5, 14, 10],\n",
       "       [ 0,  1,  2,  6,  8,  9, 11, 12,  7,  4, 13,  3,  5, 14, 10],\n",
       "       [ 0,  1,  2,  6,  7,  8,  9, 11, 12,  4, 13,  3,  5, 14, 10],\n",
       "       [ 0,  1,  2,  4,  6,  7,  8,  9, 11, 12, 13,  3,  5, 14, 10],\n",
       "       [ 0,  1,  2,  4,  6,  7,  8,  9, 11, 12, 13,  3,  5, 14, 10],\n",
       "       [ 0,  1,  2,  3,  4,  6,  7,  8,  9, 11, 12, 13,  5, 14, 10],\n",
       "       [ 0,  1,  2,  3,  4,  5,  6,  7,  8,  9, 11, 12, 13, 14, 10],\n",
       "       [ 0,  1,  2,  3,  4,  5,  6,  7,  8,  9, 11, 12, 13, 14, 10]])"
      ]
     },
     "execution_count": 15,
     "metadata": {},
     "output_type": "execute_result"
    }
   ],
   "source": [
    "np.argsort(results,1)"
   ]
  },
  {
   "cell_type": "code",
   "execution_count": 29,
   "metadata": {
    "collapsed": false,
    "deletable": true,
    "editable": true
   },
   "outputs": [
    {
     "name": "stdout",
     "output_type": "stream",
     "text": [
      "Fitting for columns [9] ...\n",
      "Got MSE 0.287118 ...\n",
      "Fitting for columns [9, 0] ...\n",
      "Got MSE 0.256977 ...\n",
      "Fitting for columns [9, 0, 2] ...\n",
      "Got MSE 0.213786 ...\n",
      "Fitting for columns [9, 0, 2, 6] ...\n",
      "Got MSE 0.195752 ...\n",
      "Fitting for columns [9, 0, 2, 6, 8] ...\n",
      "Got MSE 0.187799 ...\n",
      "Fitting for columns [9, 0, 2, 6, 8, 12] ...\n",
      "Got MSE 0.185616 ...\n",
      "Fitting for columns [9, 0, 2, 6, 8, 12, 11] ...\n",
      "Got MSE 0.184218 ...\n",
      "Fitting for columns [9, 0, 2, 6, 8, 12, 11, 1] ...\n",
      "Got MSE 0.183136 ...\n",
      "Fitting for columns [9, 0, 2, 6, 8, 12, 11, 1, 7] ...\n",
      "Got MSE 0.183133 ...\n",
      "Fitting for columns [9, 0, 2, 6, 8, 12, 11, 1, 7, 4] ...\n",
      "Got MSE 0.183057 ...\n",
      "Fitting for columns [9, 0, 2, 6, 8, 12, 11, 1, 7, 4, 13] ...\n",
      "Got MSE 0.182403 ...\n",
      "Fitting for columns [9, 0, 2, 6, 8, 12, 11, 1, 7, 4, 13, 3] ...\n",
      "Got MSE 0.181423 ...\n",
      "Fitting for columns [9, 0, 2, 6, 8, 12, 11, 1, 7, 4, 13, 3, 5] ...\n",
      "Got MSE 0.183237 ...\n",
      "Fitting for columns [9, 0, 2, 6, 8, 12, 11, 1, 7, 4, 13, 3, 5, 14] ...\n",
      "Got MSE 0.185271 ...\n",
      "Fitting for columns [9, 0, 2, 6, 8, 12, 11, 1, 7, 4, 13, 3, 5, 14, 10] ...\n",
      "Got MSE 0.190905 ...\n"
     ]
    }
   ],
   "source": [
    "pred = {}\n",
    "X = range(1,16)\n",
    "for i in X:\n",
    "    Xtr = X_tr[:,fs[0:i]]\n",
    "    Xvd = X_vd[:,fs[0:i]]\n",
    "    print(\"Fitting for columns %s ...\" % str(fs[0:i]))\n",
    "    model.fit(Xtr, ytrain)\n",
    "    p = model.predict(Xvd)\n",
    "    pred[i]=mse(yvd, p)\n",
    "    print(\"Got MSE %f ...\" % pred[i])"
   ]
  },
  {
   "cell_type": "code",
   "execution_count": 37,
   "metadata": {
    "collapsed": false
   },
   "outputs": [
    {
     "data": {
      "image/png": "[encoded data removed]",
      "text/plain": [
       "<matplotlib.figure.Figure at 0x7fabe0965790>"
      ]
     },
     "metadata": {},
     "output_type": "display_data"
    }
   ],
   "source": [
    "import matplotlib.pyplot as plt\n",
    "plt.plot(X,pred.values())\n",
    "plt.scatter(X,pred.values())\n",
    "plt.xticks(X)\n",
    "plt.xlabel(\"number of features\")\n",
    "plt.ylabel(\"MSE accuracy\")\n",
    "plt.title(\"Nearest Neighbor forward feature selection\")\n",
    "plt.show()"
   ]
  },
  {
   "cell_type": "code",
   "execution_count": 38,
   "metadata": {
    "collapsed": false
   },
   "outputs": [
    {
     "data": {
      "text/plain": [
       "[0.2871177420905488,\n",
       " 0.25697665982996526,\n",
       " 0.21378624116864187,\n",
       " 0.19575152286306835,\n",
       " 0.18779908194319717,\n",
       " 0.18561600593988395,\n",
       " 0.18421756379572052,\n",
       " 0.18313586560856884,\n",
       " 0.18313260966194408,\n",
       " 0.18305676862145451,\n",
       " 0.18240330246922701,\n",
       " 0.1814225093232554,\n",
       " 0.18323725235880048,\n",
       " 0.18527050375389001,\n",
       " 0.19090516015169812]"
      ]
     },
     "execution_count": 38,
     "metadata": {},
     "output_type": "execute_result"
    }
   ],
   "source": [
    "pred.values()"
   ]
  },
  {
   "cell_type": "code",
   "execution_count": null,
   "metadata": {
    "collapsed": true
   },
   "outputs": [],
   "source": []
  },
  {
   "cell_type": "code",
   "execution_count": null,
   "metadata": {
    "collapsed": true
   },
   "outputs": [],
   "source": []
  }
 ],
 "metadata": {
  "kernelspec": {
   "display_name": "Python 2",
   "language": "python",
   "name": "python2"
  },
  "language_info": {
   "codemirror_mode": {
    "name": "ipython",
    "version": 2
   },
   "file_extension": ".py",
   "mimetype": "text/x-python",
   "name": "python",
   "nbconvert_exporter": "python",
   "pygments_lexer": "ipython2",
   "version": "2.7.12"
  }
 },
 "nbformat": 4,
 "nbformat_minor": 2
}
