{
 "cells": [
  {
   "cell_type": "code",
   "execution_count": null,
   "metadata": {
    "collapsed": true
   },
   "outputs": [],
   "source": [
    "# Help tools\n",
    "#from IPython.core.debugger import Tracer; Tracer()()\n",
    "#np.set_printoptions(threshold=np.inf)"
   ]
  },
  {
   "cell_type": "code",
   "execution_count": 53,
   "metadata": {
    "collapsed": true
   },
   "outputs": [],
   "source": [
    "import random\n",
    "import numpy\n",
    "import numpy as np\n",
    "import pickle\n",
    "from sklearn.ensemble import RandomForestClassifier"
   ]
  },
  {
   "cell_type": "code",
   "execution_count": 42,
   "metadata": {
    "collapsed": true
   },
   "outputs": [],
   "source": [
    "chunk_size=1000\n",
    "n=25667779\n",
    "s=100000"
   ]
  },
  {
   "cell_type": "code",
   "execution_count": 47,
   "metadata": {
    "collapsed": true
   },
   "outputs": [],
   "source": [
    "### Exercise 1.1(b)\n",
    "skip=sorted(random.sample(xrange(n),s))\n",
    "skip=set(skip)\n",
    "count=0\n",
    "with open('../data/landsat_train.csv') as f:\n",
    "  with open('../out/landsat_train_subset.csv','w') as f1:\n",
    "    with open('../out/landsat_train_remaining.csv', 'w') as f2:\n",
    "      for line in f:\n",
    "\tif count in skip:\n",
    "           f1.write(line)\n",
    "\t   skip.remove(count)\n",
    "\telse:\n",
    "\t   f2.write(line)\n",
    "\tcount+=1"
   ]
  },
  {
   "cell_type": "code",
   "execution_count": 50,
   "metadata": {},
   "outputs": [
    {
     "name": "stdout",
     "output_type": "stream",
     "text": [
      "Load the data...\n"
     ]
    }
   ],
   "source": [
    "### Exercise 1.2\n",
    "print(\"Load the data...\")\n",
    "data_train = np.genfromtxt(\"../out/landsat_train_subset.csv\", delimiter=\",\")\n",
    "Xtrain, Ytrain = data_train[:,1:], data_train[:,0]"
   ]
  },
  {
   "cell_type": "code",
   "execution_count": 51,
   "metadata": {},
   "outputs": [
    {
     "name": "stdout",
     "output_type": "stream",
     "text": [
      "Train random forest...\n"
     ]
    }
   ],
   "source": [
    "print(\"Train random forest...\")\n",
    "rf=RandomForestClassifier(n_estimators=10,criterion='gini',max_depth=None,min_samples_split=2,max_features=None)\n",
    "rf.fit(Xtrain,Ytrain)\n",
    "pred=rf.predict(Xtrain)"
   ]
  },
  {
   "cell_type": "code",
   "execution_count": 55,
   "metadata": {},
   "outputs": [
    {
     "name": "stdout",
     "output_type": "stream",
     "text": [
      "Calculating misclassification error...\n",
      "Misclassification error: 0.003230\n",
      "Saving model...\n"
     ]
    }
   ],
   "source": [
    "count=0\n",
    "print(\"Calculating misclassification error...\")\n",
    "for i in range(len(pred)):\n",
    "    if pred[i]==Ytrain[i]:\n",
    "       count+=1\n",
    "error=1.0 - count/100000.0\n",
    "print(\"Misclassification error: %f\" % error)\n",
    "print(\"Saving model...\")\n",
    "filename='../out/model.sav'\n",
    "pickle.dump(rf,open(filename,'wb'))"
   ]
  },
  {
   "cell_type": "code",
   "execution_count": 64,
   "metadata": {},
   "outputs": [
    {
     "name": "stdout",
     "output_type": "stream",
     "text": [
      "Loading model...\n"
     ]
    }
   ],
   "source": [
    "### Exercise 1.3\n",
    "filename='../out/model.sav'\n",
    "print(\"Loading model...\")\n",
    "loaded_model=pickle.load(open(filename,'rb'))\n",
    "#chunk generator function\n",
    "def chunk_generator(fname, chunk_size=1000):\n",
    "\n",
    "    data = []\n",
    "    counter = 0\n",
    "\n",
    "    with open(fname, 'r') as ifile:\n",
    "\n",
    "        for line in ifile:\n",
    "            if not line.startswith(\"#\") and counter < chunk_size:\n",
    "                line = line.split(\",\")\n",
    "                data.append([float(p) for p in line])\n",
    "                counter += 1\n",
    "            if counter == chunk_size:\n",
    "                counter = 0\n",
    "                yield data\n",
    "                data = []\n",
    "\n",
    "        # process remaining elements\n",
    "        if len(data) > 0:\n",
    "            yield data"
   ]
  },
  {
   "cell_type": "code",
   "execution_count": 68,
   "metadata": {},
   "outputs": [
    {
     "name": "stdout",
     "output_type": "stream",
     "text": [
      "Calculating the prediction for landsat_remaining...\n",
      "Calculating the misclassification error...\n",
      "Misclassication error on landsat_train_remaining is 0.070355\n",
      "Saving prediction and yvalues to file...\n"
     ]
    }
   ],
   "source": [
    "def mis_error(pred,y):\n",
    "\tcount=0\n",
    "\tfor i in range(len(pred)):\n",
    "\t    if pred[i]==y[i]:\n",
    "\t       count+=1\n",
    "\terror=1.0-(count/float(len(pred)))\n",
    "\treturn error\n",
    "print(\"Calculating the prediction for landsat_remaining...\")\n",
    "preds=[]\n",
    "Ytest=[]\n",
    "for chunk in chunk_generator(\"../out/landsat_train_remaining.csv\",chunk_size=1000):\n",
    "\tpreds+=list(loaded_model.predict(np.array(chunk)[:,1:]))\n",
    "\tYtest+=list(np.array(chunk)[:,0])\n",
    "print(\"Calculating the misclassification error...\")\n",
    "error=mis_error(preds,Ytest)\n",
    "print(\"Misclassication error on landsat_train_remaining is %f\" % error)\n",
    "print(\"Saving prediction and yvalues to file...\")\n",
    "np.savetxt('../out/landsat_train_remaining_preds.csv',np.array(preds),delimiter=',',fmt='%i')\n",
    "np.savetxt('../out/landsat_train_remaining_y.csv',np.array(Ytest),delimiter=',',fmt='%i')"
   ]
  },
  {
   "cell_type": "code",
   "execution_count": null,
   "metadata": {},
   "outputs": [
    {
     "name": "stdout",
     "output_type": "stream",
     "text": [
      "Calculating predictions for landsat_test...\n"
     ]
    }
   ],
   "source": [
    "preds=[]\n",
    "Ytest=[]\n",
    "print(\"Calculating predictions for landsat_test...\")\n",
    "for chunk in chunk_generator(\"../data/landsat_test.csv\",chunk_size=1000):\n",
    "\tpreds+=list(loaded_model.predict(np.array(chunk)))\n",
    "print(\"Saving predictions to file...\")\n",
    "np.savetxt('../out/landsat_test_preds.csv',np.array(preds),delimiter=',',fmt='%i')"
   ]
  },
  {
   "cell_type": "code",
   "execution_count": null,
   "metadata": {
    "collapsed": true
   },
   "outputs": [],
   "source": [
    ""
   ]
  }
 ],
 "metadata": {
  "kernelspec": {
   "display_name": "Python 2",
   "language": "python",
   "name": "python2"
  },
  "language_info": {
   "codemirror_mode": {
    "name": "ipython",
    "version": 2.0
   },
   "file_extension": ".py",
   "mimetype": "text/x-python",
   "name": "python",
   "nbconvert_exporter": "python",
   "pygments_lexer": "ipython2",
   "version": "2.7.10"
  }
 },
 "nbformat": 4,
 "nbformat_minor": 0
}