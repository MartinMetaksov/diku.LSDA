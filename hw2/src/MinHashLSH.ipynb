{
 "cells": [
  {
   "cell_type": "code",
   "execution_count": 1,
   "metadata": {
    "collapsed": true,
    "deletable": true,
    "editable": true
   },
   "outputs": [],
   "source": [
    "# One-liner to start the debugger here.\n",
    "#from IPython.core.debugger import Tracer; Tracer()()\n",
    "#np.set_printoptions(threshold=np.inf)\n",
    "\n",
    "import scipy.sparse as sp\n",
    "import numpy as np\n",
    "import time\n",
    "import hashlib\n",
    "import sys\n",
    "\n"
   ]
  },
  {
   "cell_type": "code",
   "execution_count": 2,
   "metadata": {
    "collapsed": false,
    "deletable": true,
    "editable": true
   },
   "outputs": [],
   "source": [
    "\n",
    "def chunk_generator(fname, chunk_size=1000):\n",
    "        data = []\n",
    "        counter = 0\n",
    "\n",
    "        with open(fname, 'r') as ifile:\n",
    "\n",
    "            for line in ifile:\n",
    "                if counter < chunk_size:\n",
    "                    data.append([int(p) for p in line.split(\" \")])\n",
    "                    counter += 1\n",
    "                if counter == chunk_size:\n",
    "                    counter = 0\n",
    "                    yield data\n",
    "                    data = []\n",
    "                    \n",
    "            # process remaining elements\n",
    "            if len(data) > 0:\n",
    "                yield data\n",
    "\n",
    "class ShingleFileParser:\n",
    "    def __init__(self, fname):\n",
    "        cindex = 0;\n",
    "        for chunk in chunk_generator(fname, 40000):\n",
    "            if cindex == 0 :\n",
    "                self.D = chunk[0][0]\n",
    "                self.W = chunk[1][0]\n",
    "                self.X = sp.lil_matrix ((self.W,self.D))\n",
    "                for i in range(3,len(chunk)):\n",
    "                    self.add_to_matrix(chunk[i])\n",
    "            else:\n",
    "                for line in chunk :\n",
    "                    self.add_to_matrix(line)\n",
    "            cindex = cindex + 1\n",
    "        \n",
    "    def add_to_matrix(self,item):\n",
    "            D_i = item[0] - 1\n",
    "            W_i = item[1] - 1\n",
    "            self.X[W_i,D_i] = 1\n",
    "    \n",
    "    def save_csc(self,filename):\n",
    "        print(\"converting to csc (column-access optimized) sparse format ...\")\n",
    "        self.X = sp.csc_matrix(self.X)\n",
    "        print(\"saving matrix with \" + str(len(self.X.data)) + \" elements\")\n",
    "        np.savez(filename,data = self.X.data ,indices=self.X.indices,\n",
    "                 indptr = self.X.indptr, shape = self.X.shape)\n",
    "        print (\"content saved to \" + filename)\n",
    "            \n"
   ]
  },
  {
   "cell_type": "code",
   "execution_count": 3,
   "metadata": {
    "collapsed": false,
    "deletable": true,
    "editable": true,
    "scrolled": false
   },
   "outputs": [
    {
     "name": "stdout",
     "output_type": "stream",
     "text": [
      "Parsing the file took 2.62999677658 seconds\n",
      "converting to csc (column-access optimized) sparse format ...\n",
      "saving matrix with 353160 elements\n",
      "content saved to ../data/csc_kos\n"
     ]
    }
   ],
   "source": [
    "start = time.time()\n",
    "sf_parser =  ShingleFileParser('../data/docword.kos.txt')\n",
    "end = time.time()\n",
    "print(\"Parsing the file took \" + str(end - start) + \" seconds\")\n",
    "sf_parser.save_csc('../data/csc_kos');\n",
    "del sf_parser"
   ]
  },
  {
   "cell_type": "code",
   "execution_count": 4,
   "metadata": {
    "collapsed": false,
    "deletable": true,
    "editable": true
   },
   "outputs": [],
   "source": [
    "def load_sparse_csc(filename):\n",
    "    loader = np.load(filename)\n",
    "    return sp.csc_matrix((  loader['data'], loader['indices'], loader['indptr']),\n",
    "                         shape = loader['shape'])\n",
    "X = load_sparse_csc('../data/csc_kos.npz')"
   ]
  },
  {
   "cell_type": "code",
   "execution_count": 5,
   "metadata": {
    "collapsed": false,
    "deletable": true,
    "editable": true
   },
   "outputs": [],
   "source": [
    "def jaccard_similarity(A):\n",
    "    # assumes that every document is a column-vector.\n",
    "    # We will compute the \"covariance\" between every document to find how many elements are common.\n",
    "    intersect = A.T.dot(A)\n",
    "    D_len = np.zeros([1,A.shape[1]])\n",
    "    for i in range(0,A.shape[1]):\n",
    "        D_len[0,i] = A[:,i].size\n",
    "    # a bit tricky .. create 2 \"meshes\" of the sizes : one vertical and one horizontal\n",
    "    cardinality_sum = np.array(np.meshgrid(D_len, D_len))\n",
    "    # add up the 2 mesh grids .. this adds up all the pairs of 2 documents\n",
    "    cardinality_sum = np.sum(cardinality_sum,axis=0)\n",
    "    # |union(a, b)| == |a| + |b| - |intersection(a, b)|\n",
    "    union = cardinality_sum - intersect\n",
    "    J= np.divide(intersect.todense(),union)\n",
    "    return J"
   ]
  },
  {
   "cell_type": "code",
   "execution_count": 6,
   "metadata": {
    "collapsed": false,
    "deletable": true,
    "editable": true
   },
   "outputs": [
    {
     "name": "stdout",
     "output_type": "stream",
     "text": [
      "Computing Jaccard similarity matrix took 1.61752700806 seconds\n"
     ]
    },
    {
     "data": {
      "text/plain": [
       "0.03378473014650963"
      ]
     },
     "execution_count": 6,
     "metadata": {},
     "output_type": "execute_result"
    }
   ],
   "source": [
    "start = time.time()\n",
    "# this contains duplicates (J[a,b] =J[b,a]). \n",
    "J = jaccard_similarity(X)\n",
    "end = time.time()\n",
    "print(\"Computing Jaccard similarity matrix took \" + str(end - start) + \" seconds\")\n",
    "# Also the diagonal would need to be ignored, since documents are similar to themselves\n",
    "np.mean(J)"
   ]
  },
  {
   "cell_type": "code",
   "execution_count": 7,
   "metadata": {
    "collapsed": false,
    "deletable": true,
    "editable": true
   },
   "outputs": [],
   "source": [
    "def find_next_prime(n):\n",
    "    def find_prime_in_range(a, b):\n",
    "            for p in range(a, b):\n",
    "                for i in range(2, p):\n",
    "                    if p % i == 0:\n",
    "                        break\n",
    "                else:\n",
    "                     return p\n",
    "            return None\n",
    "    return find_prime_in_range(n, 2 * n)"
   ]
  },
  {
   "cell_type": "code",
   "execution_count": 8,
   "metadata": {
    "collapsed": false,
    "deletable": true,
    "editable": true
   },
   "outputs": [],
   "source": [
    "def universal_row_hashes(h_sz,r_sz):\n",
    "    N_prime = find_next_prime(h_sz)\n",
    "    R = np.matrix(np.linspace(1,r_sz,r_sz,dtype=int))\n",
    "    coef = np.random.randint(low=1,high=r_sz,size=[h_sz,2])\n",
    "    A = np.matrix(coef[:,0]).T\n",
    "    B = np.matrix(coef[:,1]).T\n",
    "    H = (A * R + B )% N_prime % h_sz\n",
    "    return H\n"
   ]
  },
  {
   "cell_type": "code",
   "execution_count": 17,
   "metadata": {
    "collapsed": false
   },
   "outputs": [],
   "source": [
    "import matplotlib.pyplot as plt\n",
    "def show_hash_distribution(H):\n",
    "    # check out the distribution of these random hash results\n",
    "    hsh = np.asarray(H).flatten()\n",
    "    plt.hist(np.asarray(Hsh).flatten())\n",
    "    plt.show()"
   ]
  },
  {
   "cell_type": "code",
   "execution_count": 60,
   "metadata": {
    "collapsed": false
   },
   "outputs": [],
   "source": [
    "def minhash_signature(A,h_sz,show_hash_buckets=False):\n",
    "    D = A.shape[1]\n",
    "    W = A.shape[0]\n",
    "    H = universal_row_hashes(h_sz,W)\n",
    "    if show_hash_buckets:\n",
    "        print(\"showing hash value distribution of words in the document using \" \n",
    "                  + str(h_sz) + \" distinct hash functions\")\n",
    "        show_hash_distribution(H)\n",
    "    SGN = np.matrix(np.full([h_sz,D],sys.maxint))\n",
    "    nz = A.nonzero()\n",
    "    for i_nz in range(0,A.nnz):\n",
    "        w_i = nz[0][i_nz]\n",
    "        d_i = nz[1][i_nz]\n",
    "        SGN[:,d_i] = np.minimum(H[:,w_i],SGN[:,d_i])\n",
    "    return SGN"
   ]
  },
  {
   "cell_type": "code",
   "execution_count": 16,
   "metadata": {
    "collapsed": false,
    "deletable": true,
    "editable": true
   },
   "outputs": [],
   "source": [
    "#def jaccard_similarity_between(c1,c2):\n",
    "#    union = set()\n",
    "#    intersect = 0\n",
    "#    c1 = np.squeeze(np.asarray(c1))\n",
    "#    c2 = np.squeeze(np.asarray(c2))\n",
    "#    for i in range(0,len(c1)):\n",
    "#        union.add(c1[i])\n",
    "#        union.add(c2[i])\n",
    "        #print(str(c1[i])+ \" \" + str(c2[i]))\n",
    "#        if c1[i] == c2[i]:\n",
    "#            from IPython.core.debugger import Tracer; Tracer()()\n",
    "#            intersect = intersect + 1\n",
    "#    return intersect/float(len(union))\n",
    "\n",
    "\n",
    "def jaccard_similarity_between(c1,c2):\n",
    "    # wherever the columns agree, zeros appear\n",
    "    Y = c1 - c2\n",
    "    # and intersection is the number of zeros\n",
    "    intersect = len(c1) - np.nonzero(Y)[0].size\n",
    "    return intersect/float(len(c1))\n",
    "\n",
    "jaccard_similarity_between(SGN[:,11],SGN[:,5])\n"
   ]
  },
  {
   "cell_type": "code",
   "execution_count": 61,
   "metadata": {
    "collapsed": false
   },
   "outputs": [
    {
     "data": {
      "image/png": "[encoded data removed]",
      "text/plain": [
       "<matplotlib.figure.Figure at 0x7f2cd3f30b10>"
      ]
     },
     "metadata": {},
     "output_type": "display_data"
    }
   ],
   "source": [
    "Hsh = universal_row_hashes(100,1000)\n",
    "show_hash_distribution(Hsh)"
   ]
  },
  {
   "cell_type": "code",
   "execution_count": 62,
   "metadata": {
    "collapsed": false,
    "scrolled": true
   },
   "outputs": [
    {
     "name": "stdout",
     "output_type": "stream",
     "text": [
      "showing hash value distribution of words in the document using 100 distinct hash functions\n"
     ]
    },
    {
     "data": {
      "image/png": "[encoded data removed]",
      "text/plain": [
       "<matplotlib.figure.Figure at 0x7f2cd3e4d990>"
      ]
     },
     "metadata": {},
     "output_type": "display_data"
    },
    {
     "data": {
      "text/plain": [
       "(100, 3430)"
      ]
     },
     "execution_count": 62,
     "metadata": {},
     "output_type": "execute_result"
    }
   ],
   "source": [
    "np.set_printoptions(threshold=100)\n",
    "Sig = minhash_signature(X,100,show_hash_buckets=True)\n",
    "Sig.shape"
   ]
  },
  {
   "cell_type": "code",
   "execution_count": 49,
   "metadata": {
    "collapsed": false
   },
   "outputs": [],
   "source": [
    "somematr = np.matrix([\n",
    "    [2, 1, 2, 1],\n",
    "    [2, 1, 4, 1],\n",
    "    [1, 2, 1, 2]\n",
    "])\n",
    "#jaccard_similarity_between(somematr[:,1],somematr[:,3])\n",
    "#np.minimum(somematr[:,0],somematr[:,2])\n"
   ]
  },
  {
   "cell_type": "code",
   "execution_count": null,
   "metadata": {
    "collapsed": false
   },
   "outputs": [],
   "source": [
    "# this is useless.. takes way too long. Use sklearn.metrics.pairwise.pairwise_distances\n",
    "SGN=Sig\n",
    "J_approx = np.zeros([SGN.shape[1],SGN.shape[1]])\n",
    "ix = 0\n",
    "for i in range(0,SGN.shape[1]):\n",
    "    for j in range(i,SGN.shape[1]):\n",
    "        sim = jaccard_similarity_between(SGN[:,i],SGN[:,j])\n",
    "        J_approx[i,j] = sim\n",
    "        J_approx[j,i] = sim\n",
    "        if ix%10000 == 0:\n",
    "            print(\"went through \" + str(ix) + \" values\")\n",
    "            print(\"got to row \" + str(i) + \" and col \"+ str(j))\n",
    "        ix = ix + 1\n",
    "        \n",
    "np.mean(J_approx)"
   ]
  },
  {
   "cell_type": "code",
   "execution_count": 50,
   "metadata": {
    "collapsed": false
   },
   "outputs": [],
   "source": [
    "np.set_printoptions(threshold=10)\n",
    "import sklearn.metrics.pairwise as dist\n",
    "J_SGN = 1-dist.pairwise_distances(Sig.T,metric='jaccard')"
   ]
  },
  {
   "cell_type": "code",
   "execution_count": 51,
   "metadata": {
    "collapsed": false
   },
   "outputs": [
    {
     "data": {
      "text/plain": [
       "0.068965517241379337"
      ]
     },
     "execution_count": 51,
     "metadata": {},
     "output_type": "execute_result"
    }
   ],
   "source": [
    "J_SGN[1,55]"
   ]
  },
  {
   "cell_type": "code",
   "execution_count": 52,
   "metadata": {
    "collapsed": false
   },
   "outputs": [
    {
     "data": {
      "text/plain": [
       "0.038461538461538464"
      ]
     },
     "execution_count": 52,
     "metadata": {},
     "output_type": "execute_result"
    }
   ],
   "source": [
    "J[1,55]"
   ]
  },
  {
   "cell_type": "code",
   "execution_count": 63,
   "metadata": {
    "collapsed": false
   },
   "outputs": [
    {
     "data": {
      "text/plain": [
       "0.075261546146821567"
      ]
     },
     "execution_count": 63,
     "metadata": {},
     "output_type": "execute_result"
    }
   ],
   "source": [
    "np.mean(J_SGN)"
   ]
  },
  {
   "cell_type": "code",
   "execution_count": 64,
   "metadata": {
    "collapsed": false
   },
   "outputs": [
    {
     "data": {
      "text/plain": [
       "0.03378473014650963"
      ]
     },
     "execution_count": 64,
     "metadata": {},
     "output_type": "execute_result"
    }
   ],
   "source": [
    "np.mean(J)"
   ]
  },
  {
   "cell_type": "code",
   "execution_count": null,
   "metadata": {
    "collapsed": true
   },
   "outputs": [],
   "source": []
  }
 ],
 "metadata": {
  "kernelspec": {
   "display_name": "Python 2",
   "language": "python",
   "name": "python2"
  },
  "language_info": {
   "codemirror_mode": {
    "name": "ipython",
    "version": 2
   },
   "file_extension": ".py",
   "mimetype": "text/x-python",
   "name": "python",
   "nbconvert_exporter": "python",
   "pygments_lexer": "ipython2",
   "version": "2.7.12"
  }
 },
 "nbformat": 4,
 "nbformat_minor": 2
}
