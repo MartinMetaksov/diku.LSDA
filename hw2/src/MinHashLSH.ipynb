{
 "cells": [
  {
   "cell_type": "code",
   "execution_count": 18,
   "metadata": {
    "collapsed": false,
    "deletable": true,
    "editable": true
   },
   "outputs": [],
   "source": [
    "# One-liner to start the debugger here.\n",
    "#from IPython.core.debugger import Tracer; Tracer()()\n",
    "\n",
    "def chunk_generator(fname, chunk_size=1000):\n",
    "        data = []\n",
    "        counter = 0\n",
    "\n",
    "        with open(fname, 'r') as ifile:\n",
    "\n",
    "            for line in ifile:\n",
    "                if counter < chunk_size:\n",
    "                    data.append([int(p) for p in line.split(\" \")])\n",
    "                    counter += 1\n",
    "                if counter == chunk_size:\n",
    "                    counter = 0\n",
    "                    yield data\n",
    "                    data = []\n",
    "                    \n",
    "            # process remaining elements\n",
    "            if len(data) > 0:\n",
    "                yield data\n",
    "    \n",
    "import scipy.sparse as sp\n",
    "import numpy as np\n",
    "\n",
    "class ShingleFileParser:\n",
    "    def __init__(self, fname):\n",
    "        cindex = 0;\n",
    "        for chunk in chunk_generator(fname, 40000):\n",
    "            if cindex == 0 :\n",
    "                self.D = chunk[0][0]\n",
    "                self.W = chunk[1][0]\n",
    "                self.X = sp.lil_matrix ((self.W,self.D))\n",
    "                for i in range(3,len(chunk)):\n",
    "                    self.add_to_matrix(chunk[i])\n",
    "            else:\n",
    "                for line in chunk :\n",
    "                    self.add_to_matrix(line)\n",
    "            cindex = cindex + 1 ;\n",
    "        \n",
    "    def add_to_matrix(self,item):\n",
    "            D_i = item[0] - 1\n",
    "            W_i = item[1] - 1\n",
    "            self.X[W_i,D_i] = 1\n",
    "    \n",
    "    def save_csc(self,filename):\n",
    "        print(\"converting to csc (column-access optimized) sparse format ...\")\n",
    "        self.X = sp.csc_matrix(self.X)\n",
    "        np.savez(filename,data = self.X.data ,indices=self.X.indices,\n",
    "                 indptr = self.X.indptr, shape = self.X.shape)\n",
    "        print (\"content saved to \" + filename)\n",
    "            \n",
    "\n",
    "def load_sparse_csc(filename):\n",
    "    loader = np.load(filename)\n",
    "    return sp.csc_matrix((  loader['data'], loader['indices'], loader['indptr']),\n",
    "                         shape = loader['shape'])\n"
   ]
  },
  {
   "cell_type": "code",
   "execution_count": 19,
   "metadata": {
    "collapsed": false,
    "deletable": true,
    "editable": true,
    "scrolled": false
   },
   "outputs": [
    {
     "name": "stdout",
     "output_type": "stream",
     "text": [
      "Parsing the file took 2.85614800453 seconds\n",
      "converting to csc (column-access optimized) sparse format ...\n",
      "content saved to ../data/csc_kos\n"
     ]
    }
   ],
   "source": [
    "import time\n",
    "\n",
    "start = time.time()\n",
    "sf_parser =  ShingleFileParser('../data/docword.kos.txt')\n",
    "end = time.time()\n",
    "print(\"Parsing the file took \" + str(end - start) + \" seconds\")\n",
    "sf_parser.save_csc('../data/csc_kos');\n",
    "del sf_parser"
   ]
  },
  {
   "cell_type": "code",
   "execution_count": 20,
   "metadata": {
    "collapsed": false,
    "deletable": true,
    "editable": true
   },
   "outputs": [],
   "source": [
    "X = load_sparse_csc('../data/csc_kos.npz')"
   ]
  },
  {
   "cell_type": "code",
   "execution_count": 105,
   "metadata": {
    "collapsed": false,
    "deletable": true,
    "editable": true
   },
   "outputs": [],
   "source": [
    "def jaccard_similarity(A):\n",
    "    # assumes that every document is a column-vector.\n",
    "    # We will compute the \"covariance\" between every document to find how many elements are common.\n",
    "    intersect = A.T.dot(A)\n",
    "    # a bit tricky .. create 2 \"meshes\" of the sizes : one vertical and one horizontal\n",
    "    cardinality_sum = np.array(np.meshgrid(D_len, D_len))\n",
    "    # add up the 2 mesh grids .. this adds up all the pairs of 2 documents\n",
    "    cardinality_sum = np.sum(cardinality_sum,axis=0)\n",
    "    # |union(a, b)| == |a| + |b| - |intersection(a, b)|\n",
    "    union = cardinality_sum - intersect\n",
    "    J= np.divide(intersect.todense(),union)\n",
    "    return J"
   ]
  },
  {
   "cell_type": "code",
   "execution_count": 107,
   "metadata": {
    "collapsed": false
   },
   "outputs": [
    {
     "data": {
      "text/plain": [
       "0.03378473014650963"
      ]
     },
     "execution_count": 107,
     "metadata": {},
     "output_type": "execute_result"
    }
   ],
   "source": [
    "J = jaccard_similarity(X)\n",
    "# this contains duplicates (J[a,b] =J[b,a]). \n",
    "# Also the diagonal would need to be ignored, since documents are similar to themselves\n",
    "np.mean(J)"
   ]
  },
  {
   "cell_type": "code",
   "execution_count": null,
   "metadata": {
    "collapsed": true
   },
   "outputs": [],
   "source": []
  }
 ],
 "metadata": {
  "kernelspec": {
   "display_name": "Python 2",
   "language": "python",
   "name": "python2"
  },
  "language_info": {
   "codemirror_mode": {
    "name": "ipython",
    "version": 2
   },
   "file_extension": ".py",
   "mimetype": "text/x-python",
   "name": "python",
   "nbconvert_exporter": "python",
   "pygments_lexer": "ipython2",
   "version": "2.7.12"
  }
 },
 "nbformat": 4,
 "nbformat_minor": 2
}
