{
 "cells": [
  {
   "cell_type": "code",
   "execution_count": 11,
   "metadata": {
    "collapsed": true
   },
   "outputs": [],
   "source": [
    "# One-liner to start the debugger here.\n",
    "#from IPython.core.debugger import Tracer; Tracer()()\n",
    "\n",
    "import scipy.sparse as sp\n",
    "import numpy as np\n",
    "import time\n",
    "import hashlib\n"
   ]
  },
  {
   "cell_type": "code",
   "execution_count": null,
   "metadata": {
    "collapsed": false,
    "deletable": true,
    "editable": true
   },
   "outputs": [],
   "source": [
    "\n",
    "def chunk_generator(fname, chunk_size=1000):\n",
    "        data = []\n",
    "        counter = 0\n",
    "\n",
    "        with open(fname, 'r') as ifile:\n",
    "\n",
    "            for line in ifile:\n",
    "                if counter < chunk_size:\n",
    "                    data.append([int(p) for p in line.split(\" \")])\n",
    "                    counter += 1\n",
    "                if counter == chunk_size:\n",
    "                    counter = 0\n",
    "                    yield data\n",
    "                    data = []\n",
    "                    \n",
    "            # process remaining elements\n",
    "            if len(data) > 0:\n",
    "                yield data\n",
    "\n",
    "class ShingleFileParser:\n",
    "    def __init__(self, fname):\n",
    "        cindex = 0;\n",
    "        for chunk in chunk_generator(fname, 40000):\n",
    "            if cindex == 0 :\n",
    "                self.D = chunk[0][0]\n",
    "                self.W = chunk[1][0]\n",
    "                self.X = sp.lil_matrix ((self.W,self.D))\n",
    "                for i in range(3,len(chunk)):\n",
    "                    self.add_to_matrix(chunk[i])\n",
    "            else:\n",
    "                for line in chunk :\n",
    "                    self.add_to_matrix(line)\n",
    "            cindex = cindex + 1\n",
    "        \n",
    "    def add_to_matrix(self,item):\n",
    "            D_i = item[0] - 1\n",
    "            W_i = item[1] - 1\n",
    "            self.X[W_i,D_i] = 1\n",
    "    \n",
    "    def save_csc(self,filename):\n",
    "        print(\"converting to csc (column-access optimized) sparse format ...\")\n",
    "        self.X = sp.csc_matrix(self.X)\n",
    "        print(\"saving matrix with \" + str(len(self.X.data)) + \" elements\")\n",
    "        np.savez(filename,data = self.X.data ,indices=self.X.indices,\n",
    "                 indptr = self.X.indptr, shape = self.X.shape)\n",
    "        print (\"content saved to \" + filename)\n",
    "            \n"
   ]
  },
  {
   "cell_type": "code",
   "execution_count": null,
   "metadata": {
    "collapsed": false,
    "deletable": true,
    "editable": true,
    "scrolled": false
   },
   "outputs": [],
   "source": [
    "start = time.time()\n",
    "sf_parser =  ShingleFileParser('../data/docword.kos.txt')\n",
    "end = time.time()\n",
    "print(\"Parsing the file took \" + str(end - start) + \" seconds\")\n",
    "sf_parser.save_csc('../data/csc_kos');\n",
    "del sf_parser"
   ]
  },
  {
   "cell_type": "code",
   "execution_count": 4,
   "metadata": {
    "collapsed": false,
    "deletable": true,
    "editable": true
   },
   "outputs": [],
   "source": [
    "def load_sparse_csc(filename):\n",
    "    loader = np.load(filename)\n",
    "    return sp.csc_matrix((  loader['data'], loader['indices'], loader['indptr']),\n",
    "                         shape = loader['shape'])\n",
    "X = load_sparse_csc('../data/csc_kos.npz')"
   ]
  },
  {
   "cell_type": "code",
   "execution_count": 8,
   "metadata": {
    "collapsed": false,
    "deletable": true,
    "editable": true
   },
   "outputs": [],
   "source": [
    "def jaccard_similarity(A):\n",
    "    # assumes that every document is a column-vector.\n",
    "    # We will compute the \"covariance\" between every document to find how many elements are common.\n",
    "    intersect = A.T.dot(A)\n",
    "    D_len = np.zeros([1,A.shape[1]])\n",
    "    for i in range(0,A.shape[1]):\n",
    "        D_len[0,i] = A[:,i].size\n",
    "    # a bit tricky .. create 2 \"meshes\" of the sizes : one vertical and one horizontal\n",
    "    cardinality_sum = np.array(np.meshgrid(D_len, D_len))\n",
    "    # add up the 2 mesh grids .. this adds up all the pairs of 2 documents\n",
    "    cardinality_sum = np.sum(cardinality_sum,axis=0)\n",
    "    # |union(a, b)| == |a| + |b| - |intersection(a, b)|\n",
    "    union = cardinality_sum - intersect\n",
    "    J= np.divide(intersect.todense(),union)\n",
    "    return J"
   ]
  },
  {
   "cell_type": "code",
   "execution_count": 9,
   "metadata": {
    "collapsed": false,
    "deletable": true,
    "editable": true
   },
   "outputs": [
    {
     "name": "stdout",
     "output_type": "stream",
     "text": [
      "Computing Jaccard similarity matrix took 1.52885699272 seconds\n"
     ]
    },
    {
     "data": {
      "text/plain": [
       "0.017038137668006964"
      ]
     },
     "execution_count": 9,
     "metadata": {},
     "output_type": "execute_result"
    }
   ],
   "source": [
    "start = time.time()\n",
    "# this contains duplicates (J[a,b] =J[b,a]). \n",
    "J = jaccard_similarity(X)\n",
    "end = time.time()\n",
    "print(\"Computing Jaccard similarity matrix took \" + str(end - start) + \" seconds\")\n",
    "# Also the diagonal would need to be ignored, since documents are similar to themselves\n",
    "np.mean(np.triu(J))"
   ]
  },
  {
   "cell_type": "code",
   "execution_count": 10,
   "metadata": {
    "collapsed": false,
    "deletable": true,
    "editable": true
   },
   "outputs": [],
   "source": [
    "def find_next_prime(n):\n",
    "    def find_prime_in_range(a, b):\n",
    "            for p in range(a, b):\n",
    "                for i in range(2, p):\n",
    "                    if p % i == 0:\n",
    "                        break\n",
    "                else:\n",
    "                     return p\n",
    "            return None\n",
    "    return find_prime_in_range(n, 2 * n)"
   ]
  },
  {
   "cell_type": "code",
   "execution_count": 12,
   "metadata": {
    "collapsed": false,
    "deletable": true,
    "editable": true
   },
   "outputs": [],
   "source": [
    "def row2sig(A,i):\n",
    "    tokens = np.squeeze(np.asarray(A[i,:].todense())).astype(int).astype(str)\n",
    "    big = ''.join(tokens)\n",
    "    hsh = int(hashlib.sha1(big).hexdigest(), 16)\n",
    "    return hsh\n"
   ]
  },
  {
   "cell_type": "code",
   "execution_count": 13,
   "metadata": {
    "collapsed": false
   },
   "outputs": [
    {
     "data": {
      "text/plain": [
       "1437417051751051074730810493049826714766962945964L"
      ]
     },
     "execution_count": 13,
     "metadata": {},
     "output_type": "execute_result"
    }
   ],
   "source": [
    "hsh = row2sig(X,1)\n",
    "hsh"
   ]
  },
  {
   "cell_type": "code",
   "execution_count": 14,
   "metadata": {
    "collapsed": false
   },
   "outputs": [],
   "source": [
    "\n",
    "def N_universal_hashfunctions(N):\n",
    "    N_prime = find_next_prime(N)\n",
    "    hsh_sz = 100\n",
    "    hsh = np.random.randint(low=1,high=hsh_sz,size=[2,hsh_sz])\n",
    "    fn = []\n",
    "    for i in range(0,hsh_sz):\n",
    "        coefs = hsh[:,i]\n",
    "        def h(x, a=coefs[0], b=coefs[1]):\n",
    "            return int((a * x + b) % N_prime % N)\n",
    "        fn.append(h)\n",
    "    return fn\n",
    "\n"
   ]
  },
  {
   "cell_type": "code",
   "execution_count": null,
   "metadata": {
    "collapsed": false
   },
   "outputs": [],
   "source": [
    "# check out the distribution of these random hash functions\n",
    "import matplotlib.pyplot as plt\n",
    "\n",
    "fn = N_universal_hashfunctions(100)\n",
    "mods = [f(hsh) for f in fn]\n",
    "plt.hist(mods)\n",
    "plt.show()"
   ]
  },
  {
   "cell_type": "code",
   "execution_count": null,
   "metadata": {
    "collapsed": false
   },
   "outputs": [
    {
     "name": "stderr",
     "output_type": "stream",
     "text": [
      "/usr/lib/python2.7/dist-packages/numpy/core/numeric.py:301: FutureWarning: in the future, full([100, 6906], -1) will return an array of dtype('int64')\n",
      "  format(shape, fill_value, array(fill_value).dtype), FutureWarning)\n"
     ]
    }
   ],
   "source": [
    "N = 100\n",
    "fn = N_universal_hashfunctions(N)\n",
    "D = X.shape[1]\n",
    "W = X.shape[0]\n",
    "SGN = np.full([N,W],-1)\n",
    "for i_r in range(0,W):\n",
    "    rowcontent = row2sig(X,i_r);\n",
    "    hshs = []\n",
    "    for f in fn:\n",
    "        hshs.append(f(rowcontent))\n",
    "    for i_c in range(0,D):\n",
    "        nz = X[:,i_c].nonzero()[0];\n",
    "        #from IPython.core.debugger import Tracer; Tracer()()\n",
    "        for i in nz:\n",
    "            # column is nonzero in X[i,i_c]\n",
    "            h_i = 0\n",
    "            for hsh in hshs:\n",
    "                if SGN[h_i,i] == -1 or hsh < SGN[h_i,i]:\n",
    "                    SGN[h_i,i] = hsh\n",
    "                h_i = h_i + 1\n",
    "        \n"
   ]
  },
  {
   "cell_type": "code",
   "execution_count": null,
   "metadata": {
    "collapsed": false
   },
   "outputs": [],
   "source": [
    "SGN"
   ]
  },
  {
   "cell_type": "code",
   "execution_count": null,
   "metadata": {
    "collapsed": true
   },
   "outputs": [],
   "source": []
  }
 ],
 "metadata": {
  "kernelspec": {
   "display_name": "Python 2",
   "language": "python",
   "name": "python2"
  },
  "language_info": {
   "codemirror_mode": {
    "name": "ipython",
    "version": 2
   },
   "file_extension": ".py",
   "mimetype": "text/x-python",
   "name": "python",
   "nbconvert_exporter": "python",
   "pygments_lexer": "ipython2",
   "version": "2.7.12"
  }
 },
 "nbformat": 4,
 "nbformat_minor": 2
}
