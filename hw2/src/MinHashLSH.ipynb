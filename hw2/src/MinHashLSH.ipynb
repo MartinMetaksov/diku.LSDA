{
 "cells": [
  {
   "cell_type": "code",
   "execution_count": 133,
   "metadata": {
    "collapsed": true,
    "deletable": true,
    "editable": true
   },
   "outputs": [],
   "source": [
    "# One-liner to start the debugger here.\n",
    "#from IPython.core.debugger import Tracer; Tracer()()\n",
    "#np.set_printoptions(threshold=np.inf)\n",
    "\n",
    "import scipy.sparse as sp\n",
    "import numpy as np\n",
    "import time\n",
    "import hashlib\n",
    "import sys"
   ]
  },
  {
   "cell_type": "code",
   "execution_count": 134,
   "metadata": {
    "collapsed": false,
    "deletable": true,
    "editable": true
   },
   "outputs": [],
   "source": [
    "def chunk_generator(fname, chunk_size=1000):\n",
    "        data = []\n",
    "        counter = 0\n",
    "\n",
    "        with open(fname, 'r') as ifile:\n",
    "\n",
    "            for line in ifile:\n",
    "                if counter < chunk_size:\n",
    "                    data.append([int(p) for p in line.split(\" \")])\n",
    "                    counter += 1\n",
    "                if counter == chunk_size:\n",
    "                    counter = 0\n",
    "                    yield data\n",
    "                    data = []\n",
    "                    \n",
    "            # process remaining elements\n",
    "            if len(data) > 0:\n",
    "                yield data\n",
    "\n",
    "class ShingleFileParser:\n",
    "    def __init__(self, fname):\n",
    "        cindex = 0;\n",
    "        for chunk in chunk_generator(fname, 40000):\n",
    "            if cindex == 0 :\n",
    "                self.D = chunk[0][0]\n",
    "                self.W = chunk[1][0]\n",
    "                self.X = sp.lil_matrix ((self.W,self.D))\n",
    "                for i in range(3,len(chunk)):\n",
    "                    self.add_to_matrix(chunk[i])\n",
    "            else:\n",
    "                for line in chunk :\n",
    "                    self.add_to_matrix(line)\n",
    "            cindex = cindex + 1\n",
    "        \n",
    "    def add_to_matrix(self,item):\n",
    "            D_i = item[0] - 1\n",
    "            W_i = item[1] - 1\n",
    "            self.X[W_i,D_i] = 1\n",
    "    \n",
    "    def save_csc(self,filename):\n",
    "        print(\"converting to csc (column-access optimized) sparse format ...\")\n",
    "        self.X = sp.csc_matrix(self.X)\n",
    "        print(\"saving matrix with \" + str(len(self.X.data)) + \" elements\")\n",
    "        np.savez(filename,data = self.X.data ,indices=self.X.indices,\n",
    "                 indptr = self.X.indptr, shape = self.X.shape)\n",
    "        print (\"content saved to \" + filename)"
   ]
  },
  {
   "cell_type": "code",
   "execution_count": 135,
   "metadata": {
    "collapsed": false,
    "deletable": true,
    "editable": true,
    "scrolled": false
   },
   "outputs": [
    {
     "name": "stdout",
     "output_type": "stream",
     "text": [
      "Parsing the file took 2.42670607567 seconds\n",
      "converting to csc (column-access optimized) sparse format ...\n",
      "saving matrix with 353160 elements\n",
      "content saved to ../data/csc_kos\n"
     ]
    }
   ],
   "source": [
    "start = time.time()\n",
    "sf_parser =  ShingleFileParser('../data/docword.kos.txt')\n",
    "end = time.time()\n",
    "print(\"Parsing the file took \" + str(end - start) + \" seconds\")\n",
    "sf_parser.save_csc('../data/csc_kos');\n",
    "del sf_parser"
   ]
  },
  {
   "cell_type": "code",
   "execution_count": 136,
   "metadata": {
    "collapsed": false,
    "deletable": true,
    "editable": true
   },
   "outputs": [],
   "source": [
    "def load_sparse_csc(filename):\n",
    "    loader = np.load(filename)\n",
    "    return sp.csc_matrix((  loader['data'], loader['indices'], loader['indptr']),\n",
    "                         shape = loader['shape'])\n",
    "D = load_sparse_csc('../data/csc_kos.npz')"
   ]
  },
  {
   "cell_type": "code",
   "execution_count": 137,
   "metadata": {
    "collapsed": false,
    "deletable": true,
    "editable": true
   },
   "outputs": [],
   "source": [
    "def jaccard_similarity(A):\n",
    "    # assumes that every document is a column-vector.\n",
    "    # We will compute the \"covariance\" between every document to find how many elements are common.\n",
    "    print (\"performing union between shapes \" + str(A.T.shape) + \" and \" + str(A.shape))\n",
    "    intersect = A.T.dot(A)\n",
    "    D_len = np.zeros([1,A.shape[1]])\n",
    "    for i in range(0,A.shape[1]):\n",
    "        D_len[0,i] = A[:,i].size\n",
    "    # a bit tricky .. create 2 \"meshes\" of the sizes : one vertical and one horizontal\n",
    "    cardinality_sum = np.array(np.meshgrid(D_len, D_len))\n",
    "    # add up the 2 mesh grids .. this adds up all the pairs of 2 documents\n",
    "    cardinality_sum = np.sum(cardinality_sum,axis=0)\n",
    "    # |union(a, b)| == |a| + |b| - |intersection(a, b)|\n",
    "    union = cardinality_sum - intersect\n",
    "    J= np.divide(intersect.todense(),union)\n",
    "    return J"
   ]
  },
  {
   "cell_type": "code",
   "execution_count": 138,
   "metadata": {
    "collapsed": false,
    "deletable": true,
    "editable": true
   },
   "outputs": [
    {
     "name": "stdout",
     "output_type": "stream",
     "text": [
      "performing union between shapes (3430, 6906) and (6906, 3430)\n",
      "Computing Jaccard similarity matrix took 2.21264910698 seconds\n"
     ]
    },
    {
     "data": {
      "text/plain": [
       "0.03378473014650963"
      ]
     },
     "execution_count": 138,
     "metadata": {},
     "output_type": "execute_result"
    }
   ],
   "source": [
    "start = time.time()\n",
    "# this contains duplicates (J[a,b] =J[b,a]). \n",
    "J = jaccard_similarity(D)\n",
    "end = time.time()\n",
    "print(\"Computing Jaccard similarity matrix took \" + str(end - start) + \" seconds\")\n",
    "# Also the diagonal would need to be ignored, since documents are similar to themselves\n",
    "np.mean(J)"
   ]
  },
  {
   "cell_type": "code",
   "execution_count": 139,
   "metadata": {
    "collapsed": false,
    "deletable": true,
    "editable": true
   },
   "outputs": [],
   "source": [
    "def find_next_prime(n):\n",
    "    def find_prime_in_range(a, b):\n",
    "            for p in range(a, b):\n",
    "                for i in range(2, p):\n",
    "                    if p % i == 0:\n",
    "                        break\n",
    "                else:\n",
    "                     return p\n",
    "            return None\n",
    "    return find_prime_in_range(n, 2 * n)"
   ]
  },
  {
   "cell_type": "code",
   "execution_count": 140,
   "metadata": {
    "collapsed": false,
    "deletable": true,
    "editable": true
   },
   "outputs": [],
   "source": [
    "def universal_row_hashes(h_sz,r_sz):\n",
    "    N_prime = find_next_prime(r_sz)\n",
    "    R = np.matrix(np.linspace(1,r_sz,r_sz,dtype=int))\n",
    "    coef = np.random.randint(low=1,high=r_sz,size=[h_sz,2])\n",
    "    A = np.matrix(coef[:,0]).T\n",
    "    B = np.matrix(coef[:,1]).T\n",
    "    H = (A * R + B )% N_prime % h_sz\n",
    "    return H"
   ]
  },
  {
   "cell_type": "code",
   "execution_count": 141,
   "metadata": {
    "collapsed": false,
    "deletable": true,
    "editable": true
   },
   "outputs": [],
   "source": [
    "import matplotlib.pyplot as plt\n",
    "def show_hash_distribution(H):\n",
    "    # check out the distribution of these random hash results\n",
    "    plt.hist(np.asarray(H).flatten())\n",
    "    plt.show()"
   ]
  },
  {
   "cell_type": "code",
   "execution_count": 142,
   "metadata": {
    "collapsed": false,
    "deletable": true,
    "editable": true
   },
   "outputs": [],
   "source": [
    "def minhash_signature(A,h_sz,show_hash_buckets=False):\n",
    "    D = A.shape[1]\n",
    "    W = A.shape[0]\n",
    "    H = universal_row_hashes(h_sz,W)\n",
    "    if show_hash_buckets:\n",
    "        print(\"showing hash value distribution of words in the document using \" \n",
    "                  + str(h_sz) + \" distinct hash functions\")\n",
    "        show_hash_distribution(H)\n",
    "    SGN = np.matrix(np.full([h_sz,D],sys.maxint))\n",
    "    nz = A.nonzero()\n",
    "    for i_nz in range(0,A.nnz):\n",
    "        w_i = nz[0][i_nz]\n",
    "        d_i = nz[1][i_nz]\n",
    "        SGN[:,d_i] = np.minimum(H[:,w_i],SGN[:,d_i])\n",
    "    return SGN"
   ]
  },
  {
   "cell_type": "code",
   "execution_count": 144,
   "metadata": {
    "collapsed": false,
    "deletable": true,
    "editable": true,
    "scrolled": false
   },
   "outputs": [
    {
     "data": {
      "image/png": "[encoded data removed]",
      "text/plain": [
       "<matplotlib.figure.Figure at 0x7fd7029aec50>"
      ]
     },
     "metadata": {},
     "output_type": "display_data"
    }
   ],
   "source": [
    "show_hash_distribution(universal_row_hashes(100,1000))"
   ]
  },
  {
   "cell_type": "code",
   "execution_count": 145,
   "metadata": {
    "collapsed": false,
    "deletable": true,
    "editable": true,
    "scrolled": true
   },
   "outputs": [
    {
     "name": "stdout",
     "output_type": "stream",
     "text": [
      "showing hash value distribution of words in the document using 100 distinct hash functions\n"
     ]
    },
    {
     "data": {
      "image/png": "[encoded data removed]",
      "text/plain": [
       "<matplotlib.figure.Figure at 0x7fd7029ae210>"
      ]
     },
     "metadata": {},
     "output_type": "display_data"
    },
    {
     "data": {
      "text/plain": [
       "matrix([[ 1.,  1.,  1., ...,  0.,  2.,  0.],\n",
       "        [ 0.,  0.,  0., ...,  2.,  2.,  0.],\n",
       "        [ 1.,  2.,  0., ...,  2.,  0.,  0.],\n",
       "        ..., \n",
       "        [ 2.,  3.,  1., ...,  0.,  0.,  0.],\n",
       "        [ 1.,  0.,  0., ...,  0.,  0.,  0.],\n",
       "        [ 1.,  0.,  0., ...,  0.,  0.,  0.]])"
      ]
     },
     "execution_count": 145,
     "metadata": {},
     "output_type": "execute_result"
    }
   ],
   "source": [
    "Sig = minhash_signature(D,100,show_hash_buckets=True)\n",
    "Sig"
   ]
  },
  {
   "cell_type": "code",
   "execution_count": 146,
   "metadata": {
    "collapsed": false,
    "deletable": true,
    "editable": true
   },
   "outputs": [
    {
     "name": "stdout",
     "output_type": "stream",
     "text": [
      "initializing sparse matrix with shape (16, 3)\n",
      "Succesful\n",
      "(array([ 0,  0,  3,  4,  4,  7,  9,  9,  9, 12, 14, 14], dtype=int32), array([0, 2, 1, 0, 1, 2, 0, 1, 2, 1, 0, 2], dtype=int32))\n",
      "initializing sparse matrix with shape (16, 3)\n",
      "Succesful\n",
      "performing union between shapes (3, 16) and (16, 3)\n",
      "[[ 1.          0.33333333  0.6       ]\n",
      " [ 0.33333333  1.          0.14285714]\n",
      " [ 0.6         0.14285714  1.        ]]\n"
     ]
    }
   ],
   "source": [
    "M = np.matrix([\n",
    "    [0, 3, 0],\n",
    "    [0, 0, 3],\n",
    "    [1, 1, 1],\n",
    "    [2, 0, 2]\n",
    "])\n",
    "def SIG_sparse_matrix(S, debug=False):\n",
    "    H = S.shape[0]\n",
    "    D = S.shape[1]\n",
    "    print \"initializing sparse matrix with shape \" + str((H*H,D))\n",
    "    SIG_sp = sp.lil_matrix ((H*H,D),dtype=int)\n",
    "    print \"Succesful\"\n",
    "    ix = 0\n",
    "    for i_H in range(0,H):\n",
    "        for i_D in range(0,D):\n",
    "            ix = ix + 1\n",
    "            h_val = S[i_H,i_D]\n",
    "            i_sp_H = i_H*H+h_val\n",
    "            i_sp_D = i_D\n",
    "            if debug and ix %5000  == 0:\n",
    "                print(str((i_sp_H,i_sp_D)))\n",
    "            #    from IPython.core.debugger import Tracer; Tracer()()\n",
    "            SIG_sp[i_sp_H,i_sp_D] = 1\n",
    "    return SIG_sp\n",
    "S = SIG_sparse_matrix(M,debug=True)\n",
    "print(S.nonzero())\n",
    "print(jaccard_similarity(SIG_sparse_matrix(M)))"
   ]
  },
  {
   "cell_type": "code",
   "execution_count": 82,
   "metadata": {
    "collapsed": false
   },
   "outputs": [
    {
     "name": "stdout",
     "output_type": "stream",
     "text": [
      "initializing sparse matrix with shape (100, 3430)\n",
      "Succesful\n",
      "performing union between shapes (3430, 100) and (100, 3430)\n",
      "initializing sparse matrix with shape (400, 3430)\n",
      "Succesful\n",
      "performing union between shapes (3430, 400) and (400, 3430)\n",
      "initializing sparse matrix with shape (900, 3430)\n",
      "Succesful\n",
      "performing union between shapes (3430, 900) and (900, 3430)\n",
      "initializing sparse matrix with shape (1600, 3430)\n",
      "Succesful\n",
      "performing union between shapes (3430, 1600) and (1600, 3430)\n",
      "initializing sparse matrix with shape (2500, 3430)\n",
      "Succesful\n",
      "performing union between shapes (3430, 2500) and (2500, 3430)\n",
      "initializing sparse matrix with shape (3600, 3430)\n",
      "Succesful\n",
      "performing union between shapes (3430, 3600) and (3600, 3430)\n",
      "initializing sparse matrix with shape (4900, 3430)\n",
      "Succesful\n",
      "performing union between shapes (3430, 4900) and (4900, 3430)\n",
      "initializing sparse matrix with shape (6400, 3430)\n",
      "Succesful\n",
      "performing union between shapes (3430, 6400) and (6400, 3430)\n",
      "initializing sparse matrix with shape (8100, 3430)\n",
      "Succesful\n",
      "performing union between shapes (3430, 8100) and (8100, 3430)\n",
      "initializing sparse matrix with shape (10000, 3430)\n",
      "Succesful\n",
      "performing union between shapes (3430, 10000) and (10000, 3430)\n"
     ]
    }
   ],
   "source": [
    "def grid_search_MinHash_buckets(A,search_range,verbose=False):\n",
    "    J_SGN= {}\n",
    "    for k in search_range:\n",
    "        start = time.time()\n",
    "        Sig = minhash_signature(A,k)\n",
    "        end = time.time()\n",
    "        minhash_time = end - start\n",
    "        if verbose:\n",
    "            print(\"Computing the minHash signatures with K = \" + str(k) + \" took \" + str(minhash_time) + \" seconds\")\n",
    "        start = time.time()\n",
    "        J_appr = jaccard_similarity(SIG_sparse_matrix(Sig))\n",
    "        end = time.time()\n",
    "        jaccard_time = end - start\n",
    "        if verbose:\n",
    "            print(\"Computing the Jaccard similarity with K = \" + str(k) + \" took \" + str(jaccard_time) + \" seconds\")\n",
    "        J_SGN[k] = {\"J_SGN\":J_appr,\"minhash_time\":minhash_time,\"jaccard_time\":jaccard_time}\n",
    "    return J_SGN\n",
    "J_approx_list = grid_search_MinHash_buckets(D,range(10,101,10))"
   ]
  },
  {
   "cell_type": "code",
   "execution_count": 95,
   "metadata": {
    "collapsed": false
   },
   "outputs": [],
   "source": [
    "def MAE(J_true, J_approx):\n",
    "    return np.mean(np.abs(J_true-J_approx))\n",
    "\n",
    "def J_approximation_accuracy(J_true,J_list,verbose=False):\n",
    "    accuracy={}\n",
    "    for k in (J_list.keys()):\n",
    "        mae = MAE(J_true,J_approx_list[k][\"J_SGN\"])\n",
    "        if verbose:\n",
    "            print (\"k = \" + str(k) + \" MAE is \" + str(mae))\n",
    "        accuracy[k] = mae\n",
    "    return accuracy\n",
    "\n",
    "approx = J_approximation_accuracy(J,J_approx_list)"
   ]
  },
  {
   "cell_type": "code",
   "execution_count": 97,
   "metadata": {
    "collapsed": false
   },
   "outputs": [],
   "source": [
    "benchmark={}\n",
    "for k in (J_approx_list.keys()):\n",
    "    benchmark[k]={}\n",
    "    benchmark[k][\"MAE\"] = approx[k]\n",
    "    benchmark[k][\"minhash_time\"] = J_approx_list[k][\"minhash_time\"]\n",
    "    benchmark[k][\"jaccard_time\"] = J_approx_list[k][\"jaccard_time\"]"
   ]
  },
  {
   "cell_type": "code",
   "execution_count": 113,
   "metadata": {
    "collapsed": false
   },
   "outputs": [
    {
     "data": {
      "image/png": "[encoded data removed]",
      "text/plain": [
       "<matplotlib.figure.Figure at 0x7fd702177350>"
      ]
     },
     "metadata": {},
     "output_type": "display_data"
    }
   ],
   "source": [
    "X = [i[0] for i in sorted(benchmark.items())]\n",
    "Y = [i[1]['MAE'] for i in sorted(benchmark.items())]\n",
    "plt.title(\"Jaccard Similarity\")\n",
    "plt.plot(X,Y)\n",
    "plt.ylabel(\"similarity ratio\")\n",
    "plt.xlabel(\"size of signature (K)\")\n",
    "plt.show()"
   ]
  },
  {
   "cell_type": "code",
   "execution_count": 111,
   "metadata": {
    "collapsed": false
   },
   "outputs": [
    {
     "name": "stdout",
     "output_type": "stream",
     "text": [
      "[10, 20, 30, 40, 50, 60, 70, 80, 90, 100]\n"
     ]
    },
    {
     "data": {
      "image/png": "[encoded data removed]",
      "text/plain": [
       "<matplotlib.figure.Figure at 0x7fd70233cd50>"
      ]
     },
     "metadata": {},
     "output_type": "display_data"
    }
   ],
   "source": [
    "X = [i[0] for i in sorted(benchmark.items())]\n",
    "print X\n",
    "Y = [i[1]['minhash_time'] for i in sorted(benchmark.items())]\n",
    "plt.title(\"MinHash computation time\")\n",
    "plt.plot(X,Y)\n",
    "plt.ylabel(\"time(s)\")\n",
    "plt.xlabel(\"size of signature (K)\")\n",
    "plt.show()"
   ]
  },
  {
   "cell_type": "code",
   "execution_count": 114,
   "metadata": {
    "collapsed": false
   },
   "outputs": [
    {
     "name": "stdout",
     "output_type": "stream",
     "text": [
      "[10, 20, 30, 40, 50, 60, 70, 80, 90, 100]\n"
     ]
    },
    {
     "data": {
      "image/png": "[encoded data removed]",
      "text/plain": [
       "<matplotlib.figure.Figure at 0x7fd7021d76d0>"
      ]
     },
     "metadata": {},
     "output_type": "display_data"
    }
   ],
   "source": [
    "X = [i[0] for i in sorted(benchmark.items())]\n",
    "print X\n",
    "Y = [i[1]['jaccard_time'] for i in sorted(benchmark.items())]\n",
    "plt.title(\"Jaccard similarity of Signature computation time\")\n",
    "plt.plot(X,Y)\n",
    "plt.ylabel(\"time(s)\")\n",
    "plt.xlabel(\"size of signature (K)\")\n",
    "plt.show()"
   ]
  },
  {
   "cell_type": "code",
   "execution_count": null,
   "metadata": {
    "collapsed": true
   },
   "outputs": [],
   "source": [
    "def partition(seq, chunk_size):\n",
    "    s = 0\n",
    "    result = {}\n",
    "    for i in range(len(seq)/chunk_size):\n",
    "        result[i] = seq[s:s+chunk_size]\n",
    "        s = s + chunk_size\n",
    "    if len(seq) % chunk_size > 0:\n",
    "        result[chunk_size+1] = seq[s:]\n",
    "    return result"
   ]
  },
  {
   "cell_type": "code",
   "execution_count": null,
   "metadata": {
    "collapsed": true
   },
   "outputs": [],
   "source": [
    "# b and s are parameters to tweak for LSH\n",
    "b = 10 # num of rows per band\n",
    "s = 0.6 # similarity threshold (all values >= s will be taken under consideration for comparison)\n",
    "K = 100\n",
    "P_Sig = partition(sig, b)\n",
    "# todo: hash each column portion with k butckets (k as large as possible, but I think 100 is too much here)\n",
    "# todo: if 2 column portions hash to the same table - the columns are candidates for comparison (compare using Jaccard)"
   ]
  }
 ],
 "metadata": {
  "kernelspec": {
   "display_name": "Python 2",
   "language": "python",
   "name": "python2"
  },
  "language_info": {
   "codemirror_mode": {
    "name": "ipython",
    "version": 2.0
   },
   "file_extension": ".py",
   "mimetype": "text/x-python",
   "name": "python",
   "nbconvert_exporter": "python",
   "pygments_lexer": "ipython2",
   "version": "2.7.12"
  }
 },
 "nbformat": 4,
 "nbformat_minor": 0
}