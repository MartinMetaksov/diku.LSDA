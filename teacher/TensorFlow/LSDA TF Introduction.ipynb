{
 "cells": [
  {
   "cell_type": "markdown",
   "metadata": {
    "deletable": true,
    "editable": true
   },
   "source": [
    "# TensorFlow Introduction"
   ]
  },
  {
   "cell_type": "markdown",
   "metadata": {
    "deletable": true,
    "editable": true
   },
   "source": [
    "## Tensors"
   ]
  },
  {
   "cell_type": "markdown",
   "metadata": {
    "deletable": true,
    "editable": true
   },
   "source": [
    "[TensorFlow](https://www.tensorflow.org/) is an open-source software library for numerical computations developed by Google. Its main application area is machine learning, in particular deep learning with neural networks. TensorFlow  makes it very easy to distribute computations over CPUs and GPUs. Thus, it is very well suited for large-scale data analysis.\n",
    "\n",
    "The following introduction is based on the [Getting Started With TensorFlow](https://www.tensorflow.org/get_started/get_started) tutorial and the first lessons from [LearningTensorFlow](http://learningtensorflow.com/). Go to these sites to learn more.\n",
    "\n",
    "\n"
   ]
  },
  {
   "cell_type": "markdown",
   "metadata": {
    "deletable": true,
    "editable": true
   },
   "source": [
    "Let's start by importing TensorFlow:"
   ]
  },
  {
   "cell_type": "code",
   "execution_count": null,
   "metadata": {
    "collapsed": true,
    "deletable": true,
    "editable": true
   },
   "outputs": [],
   "source": [
    "import tensorflow as tf"
   ]
  },
  {
   "cell_type": "markdown",
   "metadata": {
    "deletable": true,
    "editable": true
   },
   "source": [
    "In a TensorFlow program, the computational operations are organized in a graph. The nodes correspond to particular operations. The edges define the data flow between the nodes. These data are tensors, which in this context are simply multidimensional arrays.\n"
   ]
  },
  {
   "cell_type": "markdown",
   "metadata": {
    "deletable": true,
    "editable": true
   },
   "source": [
    "Each node can take some tensors as input and outputs a tensor. One basic type of node without input is a constant node representing a constant tensor. Let's define some constants holding tensors of different shapes:"
   ]
  },
  {
   "cell_type": "code",
   "execution_count": null,
   "metadata": {
    "collapsed": false,
    "deletable": true,
    "editable": true
   },
   "outputs": [],
   "source": [
    "node1 = tf.constant(3.0, tf.float32) # rank 0 tensor; scalar with shape [], tf.float32 is default and can be omitted\n",
    "print(\"node1, rank 0 tensor with shape []:\", node1)\n",
    "print(\"rank 1 tensor; this is a vector with shape [3]\", tf.constant([1. ,2., 3.]))\n",
    "print(\"rank 2 tensor; a matrix with shape [2, 3]:\", tf.constant([[1., 2., 3.], [4., 5., 6.]]))\n",
    "print(\"rank 3 tensor with shape [2, 1, 3]:\", tf.constant([[[1., 2., 3.]], [[7., 8., 9.]]] ) )"
   ]
  },
  {
   "cell_type": "markdown",
   "metadata": {
    "deletable": true,
    "editable": true
   },
   "source": [
    "To get the shape of a tensor:"
   ]
  },
  {
   "cell_type": "code",
   "execution_count": null,
   "metadata": {
    "collapsed": false,
    "deletable": true,
    "editable": true
   },
   "outputs": [],
   "source": [
    "node1.shape"
   ]
  },
  {
   "cell_type": "markdown",
   "metadata": {
    "deletable": true,
    "editable": true
   },
   "source": [
    "## Simple computation graph adding constants"
   ]
  },
  {
   "cell_type": "markdown",
   "metadata": {
    "deletable": true,
    "editable": true
   },
   "source": [
    "In a TensorFlow program, we distinguish between\n",
    "\n",
    "1. Defining the computational graph, and\n",
    "\n",
    "2. Running the computational graph."
   ]
  },
  {
   "cell_type": "markdown",
   "metadata": {
    "deletable": true,
    "editable": true
   },
   "source": [
    "Let's build a compute graph:"
   ]
  },
  {
   "cell_type": "code",
   "execution_count": null,
   "metadata": {
    "collapsed": false,
    "deletable": true,
    "editable": true
   },
   "outputs": [],
   "source": [
    "node2 = tf.constant(4.0, name='nodes_can_have_names')\n",
    "node3 = tf.add(node1, node2)"
   ]
  },
  {
   "cell_type": "code",
   "execution_count": null,
   "metadata": {
    "collapsed": false,
    "deletable": true,
    "editable": true
   },
   "outputs": [],
   "source": [
    "print(\"A node adding its input tensors node 1 and node2:\", node3)"
   ]
  },
  {
   "cell_type": "markdown",
   "metadata": {
    "deletable": true,
    "editable": true
   },
   "source": [
    "To run a computation graph, you have to start a session:"
   ]
  },
  {
   "cell_type": "code",
   "execution_count": null,
   "metadata": {
    "collapsed": false,
    "deletable": true,
    "editable": true
   },
   "outputs": [],
   "source": [
    "session = tf.Session() # or with tf.Session() as session: ...\n",
    "print(\"node1:\", session.run(node1))\n",
    "print(\"[node1, node2]:\", session.run([node1, node2]))\n",
    "print(\"node1 + node2:\", session.run(node3))"
   ]
  },
  {
   "cell_type": "markdown",
   "metadata": {
    "deletable": true,
    "editable": true
   },
   "source": [
    "## Visualizing the computational graph"
   ]
  },
  {
   "cell_type": "markdown",
   "metadata": {
    "deletable": true,
    "editable": true
   },
   "source": [
    "\"The `FileWriter` class provides a mechanism to create an event file in a given directory and add summaries and events to it.\""
   ]
  },
  {
   "cell_type": "code",
   "execution_count": null,
   "metadata": {
    "collapsed": true,
    "deletable": true,
    "editable": true
   },
   "outputs": [],
   "source": [
    "writer = tf.summary.FileWriter(\"/tmp/LSDAIntro\", session.graph)"
   ]
  },
  {
   "cell_type": "code",
   "execution_count": null,
   "metadata": {
    "collapsed": false,
    "deletable": true,
    "editable": true
   },
   "outputs": [],
   "source": [
    "print(session.run(node3))"
   ]
  },
  {
   "cell_type": "markdown",
   "metadata": {
    "deletable": true,
    "editable": true
   },
   "source": [
    "Now you can call \n",
    "\n",
    "`python -m tensorflow.tensorboard --logdir=/tmp/LSDAIntro/`\n",
    "\n",
    "giving you a link to view the graph (and more) in a browser."
   ]
  },
  {
   "cell_type": "markdown",
   "metadata": {
    "deletable": true,
    "editable": true
   },
   "source": [
    "## Broadcasting"
   ]
  },
  {
   "cell_type": "code",
   "execution_count": null,
   "metadata": {
    "collapsed": false,
    "deletable": true,
    "editable": true
   },
   "outputs": [],
   "source": [
    "node1 = tf.constant([1, 2, 3])\n",
    "node2 = tf.constant([4, 5, 6])\n",
    "node3 = tf.add(node1, node2)\n",
    "\n",
    "with tf.Session() as session:\n",
    "    print(session.run(node3))"
   ]
  },
  {
   "cell_type": "code",
   "execution_count": null,
   "metadata": {
    "collapsed": false,
    "deletable": true,
    "editable": true
   },
   "outputs": [],
   "source": [
    "node1 = tf.constant([1, 2, 3])\n",
    "node2 = tf.constant(4)\n",
    "node3 = tf.add(node1, node2)\n",
    "\n",
    "with tf.Session() as session:\n",
    "    print(session.run(node3))"
   ]
  },
  {
   "cell_type": "code",
   "execution_count": null,
   "metadata": {
    "collapsed": false,
    "deletable": true,
    "editable": true
   },
   "outputs": [],
   "source": [
    "node1 = tf.constant([[1, 2, 3], [4, 5, 6]])\n",
    "node2 = tf.constant([[1, 2, 3], [4, 5, 6]])\n",
    "node3 = tf.add(node1, node2)\n",
    "\n",
    "with tf.Session() as session:\n",
    "    print(session.run(node3))"
   ]
  },
  {
   "cell_type": "code",
   "execution_count": null,
   "metadata": {
    "collapsed": false,
    "deletable": true,
    "editable": true
   },
   "outputs": [],
   "source": [
    "node1 = tf.constant([[1, 2, 3], [4, 5, 6]])\n",
    "node2 = tf.constant(1)\n",
    "node3 = tf.add(node1, node2)\n",
    "\n",
    "with tf.Session() as session:\n",
    "    print(session.run(node3))"
   ]
  },
  {
   "cell_type": "markdown",
   "metadata": {
    "deletable": true,
    "editable": true
   },
   "source": [
    "Now it gets more tricky, have a close look:"
   ]
  },
  {
   "cell_type": "code",
   "execution_count": null,
   "metadata": {
    "collapsed": false,
    "deletable": true,
    "editable": true
   },
   "outputs": [],
   "source": [
    "node1 = tf.constant([[1, 2, 3], [4, 5, 6]])\n",
    "node2 = tf.constant([100, 101, 103])\n",
    "node3 = tf.add(node1, node2)\n",
    "\n",
    "with tf.Session() as session:\n",
    "    print(session.run(node3))"
   ]
  },
  {
   "cell_type": "code",
   "execution_count": null,
   "metadata": {
    "collapsed": false,
    "deletable": true,
    "editable": true
   },
   "outputs": [],
   "source": [
    "node1 = tf.constant([[1, 2, 3], [4, 5, 6]])\n",
    "node2 = tf.constant([[100], [103]])\n",
    "node3 = tf.add(node1, node2)\n",
    "\n",
    "with tf.Session() as session:\n",
    "    print(session.run(node3))"
   ]
  },
  {
   "cell_type": "markdown",
   "metadata": {
    "deletable": true,
    "editable": true
   },
   "source": [
    "## Placeholders"
   ]
  },
  {
   "cell_type": "markdown",
   "metadata": {
    "deletable": true,
    "editable": true
   },
   "source": [
    "External inputs are fed into the graph via placeholders:"
   ]
  },
  {
   "cell_type": "code",
   "execution_count": null,
   "metadata": {
    "collapsed": true,
    "deletable": true,
    "editable": true
   },
   "outputs": [],
   "source": [
    "a = tf.placeholder(tf.float32)\n",
    "b = tf.placeholder(tf.float32)\n",
    "sum = a + b  # + is a shortcut for tf.add(a, b)"
   ]
  },
  {
   "cell_type": "code",
   "execution_count": null,
   "metadata": {
    "collapsed": false,
    "deletable": true,
    "editable": true
   },
   "outputs": [],
   "source": [
    "with tf.Session() as session:\n",
    "    print(session.run(sum, {a: 3, b:4.5}))\n",
    "    print(session.run(sum, {a: [1,3], b: [2, 4]}))\n",
    "    print(session.run(sum, {a: [1,3], b: 1})) # some broadcasting going on"
   ]
  },
  {
   "cell_type": "markdown",
   "metadata": {
    "deletable": true,
    "editable": true
   },
   "source": [
    "## Variables"
   ]
  },
  {
   "cell_type": "markdown",
   "metadata": {
    "deletable": true,
    "editable": true
   },
   "source": [
    "A graph can of course contain also variables, for example the parameters of a machine learning model."
   ]
  },
  {
   "cell_type": "code",
   "execution_count": null,
   "metadata": {
    "collapsed": true,
    "deletable": true,
    "editable": true
   },
   "outputs": [],
   "source": [
    "a = tf.Variable([.3], tf.float32)\n",
    "b = tf.Variable([-.3], tf.float32)\n",
    "x = tf.placeholder(tf.float32)\n",
    "linear_model = a * x + b"
   ]
  },
  {
   "cell_type": "markdown",
   "metadata": {
    "deletable": true,
    "editable": true
   },
   "source": [
    "Variables must be initialized explicitly before you run a graph."
   ]
  },
  {
   "cell_type": "code",
   "execution_count": null,
   "metadata": {
    "collapsed": false,
    "deletable": true,
    "editable": true
   },
   "outputs": [],
   "source": [
    "session = tf.Session()\n",
    "init = tf.global_variables_initializer()\n",
    "session.run(init)"
   ]
  },
  {
   "cell_type": "markdown",
   "metadata": {
    "deletable": true,
    "editable": true
   },
   "source": [
    "Now we are ready to go:"
   ]
  },
  {
   "cell_type": "code",
   "execution_count": null,
   "metadata": {
    "collapsed": false,
    "deletable": true,
    "editable": true
   },
   "outputs": [],
   "source": [
    "print(session.run(linear_model, {x:[1,2,3,4]}))"
   ]
  },
  {
   "cell_type": "markdown",
   "metadata": {
    "deletable": true,
    "editable": true
   },
   "source": [
    "Let's change the value of a variable:"
   ]
  },
  {
   "cell_type": "code",
   "execution_count": null,
   "metadata": {
    "collapsed": false,
    "deletable": true,
    "editable": true
   },
   "outputs": [],
   "source": [
    "session.run(b.assign([-1]))"
   ]
  },
  {
   "cell_type": "code",
   "execution_count": null,
   "metadata": {
    "collapsed": false,
    "deletable": true,
    "editable": true
   },
   "outputs": [],
   "source": [
    "print(session.run(linear_model, {x:[1,2,3,4]}))"
   ]
  }
 ],
 "metadata": {
  "kernelspec": {
   "display_name": "Python 3",
   "language": "python",
   "name": "python3"
  },
  "language_info": {
   "codemirror_mode": {
    "name": "ipython",
    "version": 3
   },
   "file_extension": ".py",
   "mimetype": "text/x-python",
   "name": "python",
   "nbconvert_exporter": "python",
   "pygments_lexer": "ipython3",
   "version": "3.4.6"
  }
 },
 "nbformat": 4,
 "nbformat_minor": 2
}
