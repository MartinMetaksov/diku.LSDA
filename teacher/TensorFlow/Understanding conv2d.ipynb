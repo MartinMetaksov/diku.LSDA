{
 "cells": [
  {
   "cell_type": "markdown",
   "metadata": {
    "deletable": true,
    "editable": true
   },
   "source": [
    "# Basic convolution in TensorFlow\n",
    "\n",
    "Some of the arguments of ``conv2d`` may not directly be clear. This notebook demonstrates some effects. It assumes basic knowledge about convolution. To get started with 2D convolution in TensorFlow see the documentation \n",
    "https://www.tensorflow.org/api_guides/python/nn#Convolution and\n",
    "https://www.tensorflow.org/api_docs/python/tf/nn/conv2d.\n",
    "\n",
    "Note that the convolution operators in Tensorflow do, stricly speaking, not implement convolution but _cross-correlation_."
   ]
  },
  {
   "cell_type": "code",
   "execution_count": null,
   "metadata": {
    "collapsed": true,
    "deletable": true,
    "editable": true
   },
   "outputs": [],
   "source": [
    "import tensorflow as tf\n",
    "import numpy as np"
   ]
  },
  {
   "cell_type": "markdown",
   "metadata": {
    "deletable": true,
    "editable": true
   },
   "source": [
    "## 1x1 convolution"
   ]
  },
  {
   "cell_type": "markdown",
   "metadata": {
    "deletable": true,
    "editable": true
   },
   "source": [
    "Some deep learning architectures use 1x1 convolutions. What happens in this \"degenerated\" case? Let's consider a 3x3 image with 3 channels  and a 1x1 filter with 3 input channels and 1 output channel. The resulting image will be 3x3 with 1 channel (size 1x3x3x1), where the value of each pixel is the dot product across channels of the filter with the corresponding pixel in the input image."
   ]
  },
  {
   "cell_type": "code",
   "execution_count": null,
   "metadata": {
    "collapsed": false,
    "deletable": true,
    "editable": true
   },
   "outputs": [],
   "source": [
    "input  = tf.Variable(tf.random_normal([1,3,3,3])) # input: [batch, in_height, in_width, in_channels]\n",
    "filter = tf.Variable(tf.random_normal([1,1,3,1])) # filter: [filter_height, filter_width, in_channels, out_channels]\n",
    "output = tf.nn.conv2d(input, filter, strides=[1, 1, 1, 1], padding='VALID')"
   ]
  },
  {
   "cell_type": "code",
   "execution_count": null,
   "metadata": {
    "collapsed": false,
    "deletable": true,
    "editable": true
   },
   "outputs": [],
   "source": [
    "session = tf.Session()\n",
    "with session.as_default(): # this way the sessionis not closed after the block\n",
    "    session.run(tf.global_variables_initializer())\n",
    "    print(\"input\")\n",
    "    print(input.eval())\n",
    "    print(\"filter\")\n",
    "    print(filter.eval())\n",
    "    print(\"result\")\n",
    "    result = session.run(output)\n",
    "    print(result)"
   ]
  },
  {
   "cell_type": "markdown",
   "metadata": {
    "deletable": true,
    "editable": true
   },
   "source": [
    "Let's check the result. Each output at position `(x,y)` should be the scalar product of the input channels at `(x,y)` and the filter channels at `(x,y)`. We inspect position `(0,0)`:"
   ]
  },
  {
   "cell_type": "code",
   "execution_count": null,
   "metadata": {
    "collapsed": false,
    "deletable": true,
    "editable": true
   },
   "outputs": [],
   "source": [
    "a = input.eval(session=session)[0,0,0]\n",
    "print(\"\\ninput at position (0,0), all channels:\", a)\n",
    "b = filter.eval(session=session)[0,0,:,0]\n",
    "print(\"filter at position (0,0), all channels:\", b)\n",
    "\n",
    "print(\"check at (0,0)\", np.dot(a,b))"
   ]
  },
  {
   "cell_type": "markdown",
   "metadata": {
    "deletable": true,
    "editable": true
   },
   "source": [
    "A typical application of 1x1 convolution is changing the number of channels (e.g., for dimensionality reduction)."
   ]
  },
  {
   "cell_type": "markdown",
   "metadata": {
    "deletable": true,
    "editable": true
   },
   "source": [
    "## Strides \n",
    "\n",
    "The strides, which determine how much the filter is shifted in each dimension during convolution/cross-correlation, are defined by four integers `[batch, in_height, in_width, in_channels]`.\n",
    "\n",
    "The first argument `batch` refers to the batch and is typically set to 1, because one normally does not want to skip over examples in the batch.\n",
    "\n",
    "The last argument controls skipping input channels, which is typically not desired and therfore `in_channels` is typically set to 1.\n",
    "\n",
    "The middle arguments refer to the shifts in the two image dimensions.\n"
   ]
  },
  {
   "cell_type": "markdown",
   "metadata": {
    "deletable": true,
    "editable": true
   },
   "source": [
    "## 3x3 convolution"
   ]
  },
  {
   "cell_type": "markdown",
   "metadata": {
    "deletable": true,
    "editable": true
   },
   "source": [
    "### Padding ``VALID``"
   ]
  },
  {
   "cell_type": "code",
   "execution_count": null,
   "metadata": {
    "collapsed": true,
    "deletable": true,
    "editable": true
   },
   "outputs": [],
   "source": [
    "filter = tf.Variable(tf.random_normal([3,3,3,1])) # filter: [filter_height, filter_width, in_channels, out_channels]\n",
    "output = tf.nn.conv2d(input, filter, strides=[1, 1, 1, 1], padding='VALID')"
   ]
  },
  {
   "cell_type": "markdown",
   "metadata": {
    "deletable": true,
    "editable": true
   },
   "source": [
    "Using padding `VALID`, the dimensions of the output are reduced. When applying a 3x3 filter to a 3x3 image with 3 channels (features), there is only one position where the filter can be placed without crossing the image boundaries. Thus, we get a single pixel output.\n",
    "\n",
    "Before running the code: How many parameters does the filter operation have?"
   ]
  },
  {
   "cell_type": "code",
   "execution_count": null,
   "metadata": {
    "collapsed": false,
    "deletable": true,
    "editable": true
   },
   "outputs": [],
   "source": [
    "with tf.Session() as session:\n",
    "    session.run(tf.global_variables_initializer())\n",
    "    print(\"input\")\n",
    "    print(input.eval())\n",
    "    print(\"filter\")\n",
    "    print(filter.eval())\n",
    "    print(\"result\")\n",
    "    result = session.run(output)\n",
    "    print(result)"
   ]
  },
  {
   "cell_type": "markdown",
   "metadata": {
    "deletable": true,
    "editable": true
   },
   "source": [
    "## Padding ``SAME`` does zero-padding, the dimensions are preserved"
   ]
  },
  {
   "cell_type": "code",
   "execution_count": null,
   "metadata": {
    "collapsed": false,
    "deletable": true,
    "editable": true
   },
   "outputs": [],
   "source": [
    "filter = tf.Variable(tf.random_normal([3,3,3,1])) # filter: [filter_height, filter_width, in_channels, out_channels]\n",
    "output = tf.nn.conv2d(input, filter, strides=[1, 1, 1, 1], padding='SAME')\n",
    "with tf.Session() as session:\n",
    "    session.run(tf.global_variables_initializer())\n",
    "    print(\"input\")\n",
    "    print(input.eval())\n",
    "    print(\"filter\")\n",
    "    print(filter.eval())\n",
    "    print(\"result\")\n",
    "    result = session.run(output)\n",
    "    print(result)"
   ]
  },
  {
   "cell_type": "markdown",
   "metadata": {
    "deletable": true,
    "editable": true
   },
   "source": [
    "If the number of output channels (features) of the filter is increased to 3, how many parameters does the resulting filter operation have?"
   ]
  },
  {
   "cell_type": "code",
   "execution_count": null,
   "metadata": {
    "collapsed": false,
    "deletable": true,
    "editable": true
   },
   "outputs": [],
   "source": [
    "filter = tf.Variable(tf.random_normal([3,3,3,3])) # filter: [filter_height, filter_width, in_channels, out_channels]\n",
    "output = tf.nn.conv2d(input, filter, strides=[1, 1, 1, 1], padding='SAME')\n",
    "with tf.Session() as session:\n",
    "    session.run(tf.global_variables_initializer())\n",
    "    print(\"input\")\n",
    "    print(input.eval())\n",
    "    print(\"filter\")\n",
    "    print(filter.eval())\n",
    "    print(\"result\")\n",
    "    result = session.run(output)\n",
    "    print(result)"
   ]
  }
 ],
 "metadata": {
  "kernelspec": {
   "display_name": "Python 3",
   "language": "python",
   "name": "python3"
  },
  "language_info": {
   "codemirror_mode": {
    "name": "ipython",
    "version": 3
   },
   "file_extension": ".py",
   "mimetype": "text/x-python",
   "name": "python",
   "nbconvert_exporter": "python",
   "pygments_lexer": "ipython3",
   "version": "3.4.6"
  }
 },
 "nbformat": 4,
 "nbformat_minor": 2
}
