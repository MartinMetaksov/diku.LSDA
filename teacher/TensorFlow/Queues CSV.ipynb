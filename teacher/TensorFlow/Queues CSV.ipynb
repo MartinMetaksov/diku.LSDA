{
 "cells": [
  {
   "cell_type": "markdown",
   "metadata": {
    "deletable": true,
    "editable": true
   },
   "source": [
    "# Reading data ... the TensorFlow way \n",
    "\n",
    "Queues can be used to feed data into your TensorFlow graph. This allows you to deal with large data sets, perhaps stored in different files. This notebook is based on the official tutorials \n",
    "[Reading Data](https://www.tensorflow.org/programmers_guide/reading_data) and\n",
    "[Threading and Queues](https://www.tensorflow.org/programmers_guide/threading_and_queues), which contain much more information. "
   ]
  },
  {
   "cell_type": "code",
   "execution_count": null,
   "metadata": {
    "collapsed": true,
    "deletable": true,
    "editable": true
   },
   "outputs": [],
   "source": [
    "import tensorflow as tf"
   ]
  },
  {
   "cell_type": "markdown",
   "metadata": {
    "deletable": true,
    "editable": true
   },
   "source": [
    "We have a queue containing all files containing the data (here we consider just a single file):"
   ]
  },
  {
   "cell_type": "code",
   "execution_count": null,
   "metadata": {
    "collapsed": false,
    "deletable": true,
    "editable": true
   },
   "outputs": [],
   "source": [
    "filename_queue = tf.train.string_input_producer([ \"../data/LSDA2017WeedCropTrain.csv\" ])"
   ]
  },
  {
   "cell_type": "markdown",
   "metadata": {
    "deletable": true,
    "editable": true
   },
   "source": [
    "A `TextLineReader` allows us to read from a plain text file:"
   ]
  },
  {
   "cell_type": "code",
   "execution_count": null,
   "metadata": {
    "collapsed": true,
    "deletable": true,
    "editable": true
   },
   "outputs": [],
   "source": [
    "reader = tf.TextLineReader(skip_header_lines = 0)"
   ]
  },
  {
   "cell_type": "markdown",
   "metadata": {
    "deletable": true,
    "editable": true
   },
   "source": [
    "And the `TextReader` should read from the files in our queue:"
   ]
  },
  {
   "cell_type": "code",
   "execution_count": null,
   "metadata": {
    "collapsed": false,
    "deletable": true,
    "editable": true
   },
   "outputs": [],
   "source": [
    "key, value = reader.read(filename_queue)"
   ]
  },
  {
   "cell_type": "markdown",
   "metadata": {
    "deletable": true,
    "editable": true
   },
   "source": [
    "Queues are filled in extra threads. These are started by `tf.train.start_queue_runners`.\n",
    "\n",
    "For dealing with threads with make use of an `tf.train.Coordinator` object, which coordinates the termination of a set of threads. A coordinator can  ask all threads it coordinates to stop via `tf.train.Coordinator.request_stop()`. Calling `tf.train.Coordinator.join` waits until the registered threads have terminated."
   ]
  },
  {
   "cell_type": "code",
   "execution_count": null,
   "metadata": {
    "collapsed": false,
    "deletable": true,
    "editable": true
   },
   "outputs": [],
   "source": [
    "with tf.Session() as sess:\n",
    "    coord = tf.train.Coordinator() # Thread coordinator\n",
    "    threads = tf.train.start_queue_runners(coord = coord) # Start queue runners, returns the corresponding threads\n",
    "    for i in range(1,10):\n",
    "        print(sess.run([key, value]))\n",
    "    coord.request_stop() # Ask the threads to stop\n",
    "    coord.join(threads)  # Wait until threads have stopped"
   ]
  },
  {
   "cell_type": "markdown",
   "metadata": {
    "deletable": true,
    "editable": true
   },
   "source": [
    "After the last pattern is read, the first pattern is returned again.\n",
    "\n",
    "The `tf.TextLineReader` returns strings. Now we convert these strings into numerical data."
   ]
  },
  {
   "cell_type": "code",
   "execution_count": null,
   "metadata": {
    "collapsed": false,
    "deletable": true,
    "editable": true
   },
   "outputs": [],
   "source": [
    "d = 13 # input dimension\n",
    "record_defaults = [[1.0] for _ in range(d)] # define all input features to be floats\n",
    "record_defaults.append([1]) # add the label as an integer\n",
    "print(record_defaults)"
   ]
  },
  {
   "cell_type": "code",
   "execution_count": null,
   "metadata": {
    "collapsed": true,
    "deletable": true,
    "editable": true
   },
   "outputs": [],
   "source": [
    "content = tf.decode_csv(value, record_defaults)"
   ]
  },
  {
   "cell_type": "code",
   "execution_count": null,
   "metadata": {
    "collapsed": false,
    "deletable": true,
    "editable": true
   },
   "outputs": [],
   "source": [
    "with  tf.Session() as sess:\n",
    "    coord = tf.train.Coordinator()\n",
    "    threads = tf.train.start_queue_runners(coord = coord)\n",
    "    for i in range(1,10):\n",
    "        print(sess.run(content))\n",
    "    coord.request_stop()\n",
    "    coord.join(threads)"
   ]
  },
  {
   "cell_type": "markdown",
   "metadata": {
    "deletable": true,
    "editable": true
   },
   "source": [
    "Now we split the content into features and label:"
   ]
  },
  {
   "cell_type": "code",
   "execution_count": null,
   "metadata": {
    "collapsed": false,
    "deletable": true,
    "editable": true
   },
   "outputs": [],
   "source": [
    "content = tf.decode_csv(value, record_defaults)\n",
    "# pack all d features into a tensor\n",
    "features = tf.stack(content[:d])\n",
    "# assign the last column to label\n",
    "label = content[-1]"
   ]
  },
  {
   "cell_type": "code",
   "execution_count": null,
   "metadata": {
    "collapsed": false,
    "deletable": true,
    "editable": true
   },
   "outputs": [],
   "source": [
    "with tf.Session() as sess:\n",
    "    coord  =  tf . train . Coordinator ()\n",
    "    threads = tf.train.start_queue_runners (coord = coord)\n",
    "    for i in range(1,20):\n",
    "        print(sess.run([features,label]))\n",
    "    coord.request_stop()\n",
    "    coord.join(threads)"
   ]
  },
  {
   "cell_type": "markdown",
   "metadata": {
    "deletable": true,
    "editable": true
   },
   "source": [
    "Now we group the data into mini-batches:"
   ]
  },
  {
   "cell_type": "code",
   "execution_count": null,
   "metadata": {
    "collapsed": false,
    "deletable": true,
    "editable": true
   },
   "outputs": [],
   "source": [
    "BatchSize = 2\n",
    "# Minimum number elements in the queue after a dequeue, used to ensure that the samples are sufficiently mixed\n",
    "# 10 times the BatchSize should be sufficient\n",
    "min_after_dequeue = 10 * BatchSize\n",
    "# Maximum number of elements in the queue\n",
    "capacity = 20 * BatchSize\n",
    "# Shuffle the data to generate BatchSize sample pairs\n",
    "data_batch = tf.train.shuffle_batch([features,label], batch_size = BatchSize, capacity = capacity,\n",
    "                                   min_after_dequeue = min_after_dequeue)"
   ]
  },
  {
   "cell_type": "code",
   "execution_count": null,
   "metadata": {
    "collapsed": false,
    "deletable": true,
    "editable": true
   },
   "outputs": [],
   "source": [
    "with tf.Session() as sess:\n",
    "    coord = tf.train.Coordinator()\n",
    "    threads = tf.train.start_queue_runners(coord = coord)\n",
    "    for i in range(1,100):\n",
    "        print(sess.run(data_batch))\n",
    "    coord.request_stop()\n",
    "    coord.join(threads)\n"
   ]
  }
 ],
 "metadata": {
  "kernelspec": {
   "display_name": "Python 3",
   "language": "python",
   "name": "python3"
  },
  "language_info": {
   "codemirror_mode": {
    "name": "ipython",
    "version": 3
   },
   "file_extension": ".py",
   "mimetype": "text/x-python",
   "name": "python",
   "nbconvert_exporter": "python",
   "pygments_lexer": "ipython3",
   "version": "3.4.6"
  }
 },
 "nbformat": 4,
 "nbformat_minor": 2
}
