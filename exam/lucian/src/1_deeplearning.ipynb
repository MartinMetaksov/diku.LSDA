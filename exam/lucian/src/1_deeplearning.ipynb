{
 "cells": [
  {
   "cell_type": "code",
   "execution_count": 41,
   "metadata": {},
   "outputs": [
    {
     "name": "stdout",
     "output_type": "stream",
     "text": [
      "Loading training data ...\n",
      "Loaded training data: n=4000, d=18\n",
      "Loaded validation data: n=1000, d=18\n",
      "Loaded test data: n=5000, d=18\n"
     ]
    }
   ],
   "source": [
    "import numpy as np\n",
    "print(\"Loading training data ...\")\n",
    "data_train = np.genfromtxt(\"data/LSDA2017GalaxiesTrain.csv\",delimiter=\",\", dtype=float)\n",
    "Xtrain, ytrain = data_train[:,:-1], data_train[:,-1]\n",
    "print(\"Loaded training data: n=%i, d=%i\" % (Xtrain.shape[0], Xtrain.shape[1]))\n",
    "\n",
    "data_validation = np.genfromtxt(\"data/LSDA2017GalaxiesValidate.csv\",delimiter=\",\", dtype=float)\n",
    "Xvd, yvd = data_validation[:,:-1], data_validation[:,-1]\n",
    "print(\"Loaded validation data: n=%i, d=%i\" % (Xvd.shape[0], Xvd.shape[1]))\n",
    "\n",
    "data_test = np.genfromtxt(\"data/LSDA2017GalaxiesTest.csv\",delimiter=\",\", dtype=float)\n",
    "Xtest, ytest = data_test[:,:-1], data_test[:,-1]\n",
    "print(\"Loaded test data: n=%i, d=%i\" % (Xtest.shape[0], Xtest.shape[1]))"
   ]
  },
  {
   "cell_type": "code",
   "execution_count": 42,
   "metadata": {},
   "outputs": [
    {
     "name": "stdout",
     "output_type": "stream",
     "text": [
      "Standard deviation for train label is 0.010498\n"
     ]
    }
   ],
   "source": [
    "ytrain_var = np.std(ytrain)**2\n",
    "print(\"Standard deviation for train label is %f\" % ytrain_var)\n",
    "\n",
    "def tf_input(X,y):\n",
    "    # Preprocess your data here...\n",
    "\n",
    "    #X = tf.constant(X)\n",
    "    #y = tf.constant(y)\n",
    "    return X, y"
   ]
  },
  {
   "cell_type": "code",
   "execution_count": 43,
   "metadata": {},
   "outputs": [
    {
     "name": "stdout",
     "output_type": "stream",
     "text": [
      "Numer of training data points: 4000\n"
     ]
    }
   ],
   "source": [
    "import matplotlib.pyplot as plt\n",
    "import numpy as np\n",
    "import tensorflow as tf\n",
    "\n",
    "# Splits data into mini-batches\n",
    "# Batches are not randomized/shuffled, shuffling the data in mini-batch learning typically improves the performance\n",
    "class Batcher:\n",
    "    'Splits data into mini-batches'\n",
    "    def __init__(self, data, batchSize):\n",
    "        self.data, self.target = data\n",
    "        self.batchSize = batchSize\n",
    "        self.batchStartIndex = 0\n",
    "        self.batchStopIndex = 0\n",
    "        self.noData = self.data.shape[0]\n",
    "    def nextBatch(self):\n",
    "        self.batchStartIndex = self.batchStopIndex % self.noData\n",
    "        self.batchStopIndex = min(self.batchStartIndex + self.batchSize, self.noData)\n",
    "        return self.data[self.batchStartIndex:self.batchStopIndex], self.target[self.batchStartIndex:self.batchStopIndex]\n",
    "\n",
    "# Flags\n",
    "try:\n",
    "   FLAGS\n",
    "except NameError:\n",
    "    flags = tf.app.flags\n",
    "    FLAGS = flags.FLAGS\n",
    "    flags.DEFINE_string('summary_dir', 'tensor_logs', 'directory to put the summary data')\n",
    "    flags.DEFINE_string('data_dir', 'data', 'directory with data')\n",
    "    flags.DEFINE_integer('maxIter', 10000, 'number of iterations')\n",
    "    flags.DEFINE_integer('batchSize', 128, 'batch size')\n",
    "    flags.DEFINE_integer('noHidden1', 64, 'size of first hidden layer')\n",
    "    flags.DEFINE_integer('noHidden2', 32, 'size of second hidden layer')\n",
    "    flags.DEFINE_float('lr', 0.001, 'initial learning rate')\n",
    "\n",
    "X_train ,y_train = tf_input(Xtrain,ytrain)\n",
    "# Number of training data points\n",
    "noTrain = X_train.shape[0]\n",
    "print(\"Numer of training data points:\", noTrain)\n",
    "\n",
    "# Input dimension\n",
    "inDim = X_train.shape[1]\n",
    "\n",
    "X_vd,y_vd = tf_input(Xvd,yvd)\n",
    "X_test ,y_test = tf_input(Xtest,ytest)"
   ]
  },
  {
   "cell_type": "code",
   "execution_count": 49,
   "metadata": {
    "collapsed": true
   },
   "outputs": [],
   "source": [
    "import os\n",
    "if not os.path.exists(flags.FLAGS.summary_dir):\n",
    "    os.makedirs(flags.FLAGS.summary_dir)\n",
    "import shutil\n",
    "shutil.rmtree(flags.FLAGS.summary_dir)\n",
    "\n",
    "# Create graph\n",
    "sess = tf.Session()\n",
    "\n",
    "# Initialize placeholders\n",
    "x_data = tf.placeholder(shape=[None, inDim], dtype=tf.float32, name='input')\n",
    "y_target = tf.placeholder(shape=[None, 1], dtype=tf.float32, name='target')\n",
    "\n",
    "# Define variables\n",
    "def weight_variable(shape):\n",
    "    initial = tf.truncated_normal(shape, stddev=np.std(ytrain)) # restrict to +/- 2*stddev\n",
    "    return tf.Variable(initial, name='weights')\n",
    "\n",
    "def bias_variable(shape):\n",
    "    initial = tf.truncated_normal(shape, stddev=np.std(ytrain))\n",
    "    return tf.Variable(initial, name='bias')\n",
    "\n",
    "\n",
    "# Define model\n",
    "with tf.name_scope('layer1') as scope:\n",
    "    W_1 = weight_variable([inDim, FLAGS.noHidden1])\n",
    "    b_1 = bias_variable([FLAGS.noHidden1])\n",
    "    y_1 = tf.matmul(x_data , W_1 ) + b_1\n",
    "    y_1 = tf.nn.relu(y_1)\n",
    "    \n",
    "\n",
    "with tf.name_scope('layer2') as scope:\n",
    "    W_2 = weight_variable([FLAGS.noHidden1, 1])\n",
    "    b_2 = bias_variable([1])\n",
    "    model_output = tf.matmul(y_1, W_2) + b_2\n",
    "\n",
    "\n",
    "# Declare loss function\n",
    "loss = tf.reduce_mean(tf.square(model_output - y_target), name='mean_squared_error')\n",
    "tf.summary.scalar('squared_error', loss)\n",
    "\n",
    "# Declare optimizer\n",
    "my_opt =  tf.train.GradientDescentOptimizer(FLAGS.lr)\n",
    "train_step = my_opt.minimize(loss)\n",
    "\n",
    "# Map model output to validation set\n",
    "with tf.name_scope('regression_predictions') as scope:\n",
    "    predictions_correct = tf.abs(model_output - y_target)\n",
    "accuracy = tf.reduce_mean(predictions_correct, name='mean_accuracy')\n",
    "tf.summary.scalar('accuracy', accuracy)\n",
    "\n",
    "\n",
    "# Logging\n",
    "merged = tf.summary.merge_all()\n",
    "train_writer = tf.summary.FileWriter(FLAGS.summary_dir + '/train')\n",
    "test_writer = tf.summary.FileWriter(FLAGS.summary_dir + '/test')\n",
    "validate_writer=  tf.summary.FileWriter(FLAGS.summary_dir + '/validate')\n",
    "writer = tf.summary.FileWriter(FLAGS.summary_dir, sess.graph)\n",
    "saver = tf.train.Saver() # for storing the best network\n",
    "\n"
   ]
  },
  {
   "cell_type": "code",
   "execution_count": 50,
   "metadata": {},
   "outputs": [
    {
     "ename": "InvalidArgumentError",
     "evalue": "You must feed a value for placeholder tensor 'input_8' with dtype float\n\t [[Node: input_8 = Placeholder[dtype=DT_FLOAT, shape=[], _device=\"/job:localhost/replica:0/task:0/cpu:0\"]()]]\n\nCaused by op 'input_8', defined at:\n  File \"/usr/lib/python3.5/runpy.py\", line 184, in _run_module_as_main\n    \"__main__\", mod_spec)\n  File \"/usr/lib/python3.5/runpy.py\", line 85, in _run_code\n    exec(code, run_globals)\n  File \"/home/lsda/TensorFlow/lib/python3.5/site-packages/ipykernel_launcher.py\", line 16, in <module>\n    app.launch_new_instance()\n  File \"/home/lsda/TensorFlow/lib/python3.5/site-packages/traitlets/config/application.py\", line 658, in launch_instance\n    app.start()\n  File \"/home/lsda/TensorFlow/lib/python3.5/site-packages/ipykernel/kernelapp.py\", line 477, in start\n    ioloop.IOLoop.instance().start()\n  File \"/home/lsda/TensorFlow/lib/python3.5/site-packages/zmq/eventloop/ioloop.py\", line 177, in start\n    super(ZMQIOLoop, self).start()\n  File \"/home/lsda/TensorFlow/lib/python3.5/site-packages/tornado/ioloop.py\", line 888, in start\n    handler_func(fd_obj, events)\n  File \"/home/lsda/TensorFlow/lib/python3.5/site-packages/tornado/stack_context.py\", line 277, in null_wrapper\n    return fn(*args, **kwargs)\n  File \"/home/lsda/TensorFlow/lib/python3.5/site-packages/zmq/eventloop/zmqstream.py\", line 440, in _handle_events\n    self._handle_recv()\n  File \"/home/lsda/TensorFlow/lib/python3.5/site-packages/zmq/eventloop/zmqstream.py\", line 472, in _handle_recv\n    self._run_callback(callback, msg)\n  File \"/home/lsda/TensorFlow/lib/python3.5/site-packages/zmq/eventloop/zmqstream.py\", line 414, in _run_callback\n    callback(*args, **kwargs)\n  File \"/home/lsda/TensorFlow/lib/python3.5/site-packages/tornado/stack_context.py\", line 277, in null_wrapper\n    return fn(*args, **kwargs)\n  File \"/home/lsda/TensorFlow/lib/python3.5/site-packages/ipykernel/kernelbase.py\", line 283, in dispatcher\n    return self.dispatch_shell(stream, msg)\n  File \"/home/lsda/TensorFlow/lib/python3.5/site-packages/ipykernel/kernelbase.py\", line 235, in dispatch_shell\n    handler(stream, idents, msg)\n  File \"/home/lsda/TensorFlow/lib/python3.5/site-packages/ipykernel/kernelbase.py\", line 399, in execute_request\n    user_expressions, allow_stdin)\n  File \"/home/lsda/TensorFlow/lib/python3.5/site-packages/ipykernel/ipkernel.py\", line 196, in do_execute\n    res = shell.run_cell(code, store_history=store_history, silent=silent)\n  File \"/home/lsda/TensorFlow/lib/python3.5/site-packages/ipykernel/zmqshell.py\", line 533, in run_cell\n    return super(ZMQInteractiveShell, self).run_cell(*args, **kwargs)\n  File \"/home/lsda/TensorFlow/lib/python3.5/site-packages/IPython/core/interactiveshell.py\", line 2698, in run_cell\n    interactivity=interactivity, compiler=compiler, result=result)\n  File \"/home/lsda/TensorFlow/lib/python3.5/site-packages/IPython/core/interactiveshell.py\", line 2802, in run_ast_nodes\n    if self.run_code(code, result):\n  File \"/home/lsda/TensorFlow/lib/python3.5/site-packages/IPython/core/interactiveshell.py\", line 2862, in run_code\n    exec(code_obj, self.user_global_ns, self.user_ns)\n  File \"<ipython-input-20-e9847e0e61aa>\", line 5, in <module>\n    x_data = tf.placeholder(shape=[None, inDim], dtype=tf.float32, name='input')\n  File \"/home/lsda/TensorFlow/lib/python3.5/site-packages/tensorflow/python/ops/array_ops.py\", line 1507, in placeholder\n    name=name)\n  File \"/home/lsda/TensorFlow/lib/python3.5/site-packages/tensorflow/python/ops/gen_array_ops.py\", line 1997, in _placeholder\n    name=name)\n  File \"/home/lsda/TensorFlow/lib/python3.5/site-packages/tensorflow/python/framework/op_def_library.py\", line 768, in apply_op\n    op_def=op_def)\n  File \"/home/lsda/TensorFlow/lib/python3.5/site-packages/tensorflow/python/framework/ops.py\", line 2336, in create_op\n    original_op=self._default_original_op, op_def=op_def)\n  File \"/home/lsda/TensorFlow/lib/python3.5/site-packages/tensorflow/python/framework/ops.py\", line 1228, in __init__\n    self._traceback = _extract_stack()\n\nInvalidArgumentError (see above for traceback): You must feed a value for placeholder tensor 'input_8' with dtype float\n\t [[Node: input_8 = Placeholder[dtype=DT_FLOAT, shape=[], _device=\"/job:localhost/replica:0/task:0/cpu:0\"]()]]\n",
     "output_type": "error",
     "traceback": [
      "\u001b[0;31m------------------------------------------------------------\u001b[0m",
      "\u001b[0;31mInvalidArgumentError\u001b[0m       Traceback (most recent call last)",
      "\u001b[0;32m~/TensorFlow/lib/python3.5/site-packages/tensorflow/python/client/session.py\u001b[0m in \u001b[0;36m_do_call\u001b[0;34m(self, fn, *args)\u001b[0m\n\u001b[1;32m   1038\u001b[0m     \u001b[0;32mtry\u001b[0m\u001b[0;34m:\u001b[0m\u001b[0;34m\u001b[0m\u001b[0m\n\u001b[0;32m-> 1039\u001b[0;31m       \u001b[0;32mreturn\u001b[0m \u001b[0mfn\u001b[0m\u001b[0;34m(\u001b[0m\u001b[0;34m*\u001b[0m\u001b[0margs\u001b[0m\u001b[0;34m)\u001b[0m\u001b[0;34m\u001b[0m\u001b[0m\n\u001b[0m\u001b[1;32m   1040\u001b[0m     \u001b[0;32mexcept\u001b[0m \u001b[0merrors\u001b[0m\u001b[0;34m.\u001b[0m\u001b[0mOpError\u001b[0m \u001b[0;32mas\u001b[0m \u001b[0me\u001b[0m\u001b[0;34m:\u001b[0m\u001b[0;34m\u001b[0m\u001b[0m\n",
      "\u001b[0;32m~/TensorFlow/lib/python3.5/site-packages/tensorflow/python/client/session.py\u001b[0m in \u001b[0;36m_run_fn\u001b[0;34m(session, feed_dict, fetch_list, target_list, options, run_metadata)\u001b[0m\n\u001b[1;32m   1020\u001b[0m                                  \u001b[0mfeed_dict\u001b[0m\u001b[0;34m,\u001b[0m \u001b[0mfetch_list\u001b[0m\u001b[0;34m,\u001b[0m \u001b[0mtarget_list\u001b[0m\u001b[0;34m,\u001b[0m\u001b[0;34m\u001b[0m\u001b[0m\n\u001b[0;32m-> 1021\u001b[0;31m                                  status, run_metadata)\n\u001b[0m\u001b[1;32m   1022\u001b[0m \u001b[0;34m\u001b[0m\u001b[0m\n",
      "\u001b[0;32m/usr/lib/python3.5/contextlib.py\u001b[0m in \u001b[0;36m__exit__\u001b[0;34m(self, type, value, traceback)\u001b[0m\n\u001b[1;32m     65\u001b[0m             \u001b[0;32mtry\u001b[0m\u001b[0;34m:\u001b[0m\u001b[0;34m\u001b[0m\u001b[0m\n\u001b[0;32m---> 66\u001b[0;31m                 \u001b[0mnext\u001b[0m\u001b[0;34m(\u001b[0m\u001b[0mself\u001b[0m\u001b[0;34m.\u001b[0m\u001b[0mgen\u001b[0m\u001b[0;34m)\u001b[0m\u001b[0;34m\u001b[0m\u001b[0m\n\u001b[0m\u001b[1;32m     67\u001b[0m             \u001b[0;32mexcept\u001b[0m \u001b[0mStopIteration\u001b[0m\u001b[0;34m:\u001b[0m\u001b[0;34m\u001b[0m\u001b[0m\n",
      "\u001b[0;32m~/TensorFlow/lib/python3.5/site-packages/tensorflow/python/framework/errors_impl.py\u001b[0m in \u001b[0;36mraise_exception_on_not_ok_status\u001b[0;34m()\u001b[0m\n\u001b[1;32m    465\u001b[0m           \u001b[0mcompat\u001b[0m\u001b[0;34m.\u001b[0m\u001b[0mas_text\u001b[0m\u001b[0;34m(\u001b[0m\u001b[0mpywrap_tensorflow\u001b[0m\u001b[0;34m.\u001b[0m\u001b[0mTF_Message\u001b[0m\u001b[0;34m(\u001b[0m\u001b[0mstatus\u001b[0m\u001b[0;34m)\u001b[0m\u001b[0;34m)\u001b[0m\u001b[0;34m,\u001b[0m\u001b[0;34m\u001b[0m\u001b[0m\n\u001b[0;32m--> 466\u001b[0;31m           pywrap_tensorflow.TF_GetCode(status))\n\u001b[0m\u001b[1;32m    467\u001b[0m   \u001b[0;32mfinally\u001b[0m\u001b[0;34m:\u001b[0m\u001b[0;34m\u001b[0m\u001b[0m\n",
      "\u001b[0;31mInvalidArgumentError\u001b[0m: You must feed a value for placeholder tensor 'input_8' with dtype float\n\t [[Node: input_8 = Placeholder[dtype=DT_FLOAT, shape=[], _device=\"/job:localhost/replica:0/task:0/cpu:0\"]()]]",
      "\nDuring handling of the above exception, another exception occurred:\n",
      "\u001b[0;31mInvalidArgumentError\u001b[0m       Traceback (most recent call last)",
      "\u001b[0;32m<ipython-input-50-6137ee635d3f>\u001b[0m in \u001b[0;36m<module>\u001b[0;34m()\u001b[0m\n\u001b[1;32m     14\u001b[0m     \u001b[0;31m#from IPython.core.debugger import Pdb; Pdb().set_trace()\u001b[0m\u001b[0;34m\u001b[0m\u001b[0;34m\u001b[0m\u001b[0m\n\u001b[1;32m     15\u001b[0m     \u001b[0msess\u001b[0m\u001b[0;34m.\u001b[0m\u001b[0mrun\u001b[0m\u001b[0;34m(\u001b[0m\u001b[0mtrain_step\u001b[0m\u001b[0;34m,\u001b[0m \u001b[0mfeed_dict\u001b[0m\u001b[0;34m=\u001b[0m\u001b[0;34m{\u001b[0m\u001b[0mx_data\u001b[0m\u001b[0;34m:\u001b[0m \u001b[0mxTrain\u001b[0m\u001b[0;34m,\u001b[0m \u001b[0my_target\u001b[0m\u001b[0;34m:\u001b[0m \u001b[0mnp\u001b[0m\u001b[0;34m.\u001b[0m\u001b[0mtranspose\u001b[0m\u001b[0;34m(\u001b[0m\u001b[0;34m[\u001b[0m\u001b[0myTrain\u001b[0m\u001b[0;34m]\u001b[0m\u001b[0;34m)\u001b[0m\u001b[0;34m}\u001b[0m\u001b[0;34m)\u001b[0m\u001b[0;34m\u001b[0m\u001b[0m\n\u001b[0;32m---> 16\u001b[0;31m     \u001b[0msummary\u001b[0m \u001b[0;34m=\u001b[0m \u001b[0msess\u001b[0m\u001b[0;34m.\u001b[0m\u001b[0mrun\u001b[0m\u001b[0;34m(\u001b[0m\u001b[0mmerged\u001b[0m\u001b[0;34m,\u001b[0m \u001b[0mfeed_dict\u001b[0m\u001b[0;34m=\u001b[0m\u001b[0;34m{\u001b[0m\u001b[0mx_data\u001b[0m\u001b[0;34m:\u001b[0m \u001b[0mxTrain\u001b[0m\u001b[0;34m,\u001b[0m \u001b[0my_target\u001b[0m\u001b[0;34m:\u001b[0m \u001b[0mnp\u001b[0m\u001b[0;34m.\u001b[0m\u001b[0mtranspose\u001b[0m\u001b[0;34m(\u001b[0m\u001b[0;34m[\u001b[0m\u001b[0myTrain\u001b[0m\u001b[0;34m]\u001b[0m\u001b[0;34m)\u001b[0m\u001b[0;34m}\u001b[0m\u001b[0;34m)\u001b[0m\u001b[0;34m\u001b[0m\u001b[0m\n\u001b[0m\u001b[1;32m     17\u001b[0m     \u001b[0mtrain_writer\u001b[0m\u001b[0;34m.\u001b[0m\u001b[0madd_summary\u001b[0m\u001b[0;34m(\u001b[0m\u001b[0msummary\u001b[0m\u001b[0;34m,\u001b[0m \u001b[0mi\u001b[0m\u001b[0;34m)\u001b[0m\u001b[0;34m\u001b[0m\u001b[0m\n\u001b[1;32m     18\u001b[0m     \u001b[0;32mif\u001b[0m\u001b[0;34m(\u001b[0m\u001b[0;34m(\u001b[0m\u001b[0mi\u001b[0m\u001b[0;34m+\u001b[0m\u001b[0;36m1\u001b[0m\u001b[0;34m)\u001b[0m\u001b[0;34m%\u001b[0m\u001b[0;36m100\u001b[0m\u001b[0;34m==\u001b[0m\u001b[0;36m0\u001b[0m\u001b[0;34m)\u001b[0m\u001b[0;34m:\u001b[0m\u001b[0;34m\u001b[0m\u001b[0m\n",
      "\u001b[0;32m~/TensorFlow/lib/python3.5/site-packages/tensorflow/python/client/session.py\u001b[0m in \u001b[0;36mrun\u001b[0;34m(self, fetches, feed_dict, options, run_metadata)\u001b[0m\n\u001b[1;32m    776\u001b[0m     \u001b[0;32mtry\u001b[0m\u001b[0;34m:\u001b[0m\u001b[0;34m\u001b[0m\u001b[0m\n\u001b[1;32m    777\u001b[0m       result = self._run(None, fetches, feed_dict, options_ptr,\n\u001b[0;32m--> 778\u001b[0;31m                          run_metadata_ptr)\n\u001b[0m\u001b[1;32m    779\u001b[0m       \u001b[0;32mif\u001b[0m \u001b[0mrun_metadata\u001b[0m\u001b[0;34m:\u001b[0m\u001b[0;34m\u001b[0m\u001b[0m\n\u001b[1;32m    780\u001b[0m         \u001b[0mproto_data\u001b[0m \u001b[0;34m=\u001b[0m \u001b[0mtf_session\u001b[0m\u001b[0;34m.\u001b[0m\u001b[0mTF_GetBuffer\u001b[0m\u001b[0;34m(\u001b[0m\u001b[0mrun_metadata_ptr\u001b[0m\u001b[0;34m)\u001b[0m\u001b[0;34m\u001b[0m\u001b[0m\n",
      "\u001b[0;32m~/TensorFlow/lib/python3.5/site-packages/tensorflow/python/client/session.py\u001b[0m in \u001b[0;36m_run\u001b[0;34m(self, handle, fetches, feed_dict, options, run_metadata)\u001b[0m\n\u001b[1;32m    980\u001b[0m     \u001b[0;32mif\u001b[0m \u001b[0mfinal_fetches\u001b[0m \u001b[0;32mor\u001b[0m \u001b[0mfinal_targets\u001b[0m\u001b[0;34m:\u001b[0m\u001b[0;34m\u001b[0m\u001b[0m\n\u001b[1;32m    981\u001b[0m       results = self._do_run(handle, final_targets, final_fetches,\n\u001b[0;32m--> 982\u001b[0;31m                              feed_dict_string, options, run_metadata)\n\u001b[0m\u001b[1;32m    983\u001b[0m     \u001b[0;32melse\u001b[0m\u001b[0;34m:\u001b[0m\u001b[0;34m\u001b[0m\u001b[0m\n\u001b[1;32m    984\u001b[0m       \u001b[0mresults\u001b[0m \u001b[0;34m=\u001b[0m \u001b[0;34m[\u001b[0m\u001b[0;34m]\u001b[0m\u001b[0;34m\u001b[0m\u001b[0m\n",
      "\u001b[0;32m~/TensorFlow/lib/python3.5/site-packages/tensorflow/python/client/session.py\u001b[0m in \u001b[0;36m_do_run\u001b[0;34m(self, handle, target_list, fetch_list, feed_dict, options, run_metadata)\u001b[0m\n\u001b[1;32m   1030\u001b[0m     \u001b[0;32mif\u001b[0m \u001b[0mhandle\u001b[0m \u001b[0;32mis\u001b[0m \u001b[0;32mNone\u001b[0m\u001b[0;34m:\u001b[0m\u001b[0;34m\u001b[0m\u001b[0m\n\u001b[1;32m   1031\u001b[0m       return self._do_call(_run_fn, self._session, feed_dict, fetch_list,\n\u001b[0;32m-> 1032\u001b[0;31m                            target_list, options, run_metadata)\n\u001b[0m\u001b[1;32m   1033\u001b[0m     \u001b[0;32melse\u001b[0m\u001b[0;34m:\u001b[0m\u001b[0;34m\u001b[0m\u001b[0m\n\u001b[1;32m   1034\u001b[0m       return self._do_call(_prun_fn, self._session, handle, feed_dict,\n",
      "\u001b[0;32m~/TensorFlow/lib/python3.5/site-packages/tensorflow/python/client/session.py\u001b[0m in \u001b[0;36m_do_call\u001b[0;34m(self, fn, *args)\u001b[0m\n\u001b[1;32m   1050\u001b[0m         \u001b[0;32mexcept\u001b[0m \u001b[0mKeyError\u001b[0m\u001b[0;34m:\u001b[0m\u001b[0;34m\u001b[0m\u001b[0m\n\u001b[1;32m   1051\u001b[0m           \u001b[0;32mpass\u001b[0m\u001b[0;34m\u001b[0m\u001b[0m\n\u001b[0;32m-> 1052\u001b[0;31m       \u001b[0;32mraise\u001b[0m \u001b[0mtype\u001b[0m\u001b[0;34m(\u001b[0m\u001b[0me\u001b[0m\u001b[0;34m)\u001b[0m\u001b[0;34m(\u001b[0m\u001b[0mnode_def\u001b[0m\u001b[0;34m,\u001b[0m \u001b[0mop\u001b[0m\u001b[0;34m,\u001b[0m \u001b[0mmessage\u001b[0m\u001b[0;34m)\u001b[0m\u001b[0;34m\u001b[0m\u001b[0m\n\u001b[0m\u001b[1;32m   1053\u001b[0m \u001b[0;34m\u001b[0m\u001b[0m\n\u001b[1;32m   1054\u001b[0m   \u001b[0;32mdef\u001b[0m \u001b[0m_extend_graph\u001b[0m\u001b[0;34m(\u001b[0m\u001b[0mself\u001b[0m\u001b[0;34m)\u001b[0m\u001b[0;34m:\u001b[0m\u001b[0;34m\u001b[0m\u001b[0m\n",
      "\u001b[0;31mInvalidArgumentError\u001b[0m: You must feed a value for placeholder tensor 'input_8' with dtype float\n\t [[Node: input_8 = Placeholder[dtype=DT_FLOAT, shape=[], _device=\"/job:localhost/replica:0/task:0/cpu:0\"]()]]\n\nCaused by op 'input_8', defined at:\n  File \"/usr/lib/python3.5/runpy.py\", line 184, in _run_module_as_main\n    \"__main__\", mod_spec)\n  File \"/usr/lib/python3.5/runpy.py\", line 85, in _run_code\n    exec(code, run_globals)\n  File \"/home/lsda/TensorFlow/lib/python3.5/site-packages/ipykernel_launcher.py\", line 16, in <module>\n    app.launch_new_instance()\n  File \"/home/lsda/TensorFlow/lib/python3.5/site-packages/traitlets/config/application.py\", line 658, in launch_instance\n    app.start()\n  File \"/home/lsda/TensorFlow/lib/python3.5/site-packages/ipykernel/kernelapp.py\", line 477, in start\n    ioloop.IOLoop.instance().start()\n  File \"/home/lsda/TensorFlow/lib/python3.5/site-packages/zmq/eventloop/ioloop.py\", line 177, in start\n    super(ZMQIOLoop, self).start()\n  File \"/home/lsda/TensorFlow/lib/python3.5/site-packages/tornado/ioloop.py\", line 888, in start\n    handler_func(fd_obj, events)\n  File \"/home/lsda/TensorFlow/lib/python3.5/site-packages/tornado/stack_context.py\", line 277, in null_wrapper\n    return fn(*args, **kwargs)\n  File \"/home/lsda/TensorFlow/lib/python3.5/site-packages/zmq/eventloop/zmqstream.py\", line 440, in _handle_events\n    self._handle_recv()\n  File \"/home/lsda/TensorFlow/lib/python3.5/site-packages/zmq/eventloop/zmqstream.py\", line 472, in _handle_recv\n    self._run_callback(callback, msg)\n  File \"/home/lsda/TensorFlow/lib/python3.5/site-packages/zmq/eventloop/zmqstream.py\", line 414, in _run_callback\n    callback(*args, **kwargs)\n  File \"/home/lsda/TensorFlow/lib/python3.5/site-packages/tornado/stack_context.py\", line 277, in null_wrapper\n    return fn(*args, **kwargs)\n  File \"/home/lsda/TensorFlow/lib/python3.5/site-packages/ipykernel/kernelbase.py\", line 283, in dispatcher\n    return self.dispatch_shell(stream, msg)\n  File \"/home/lsda/TensorFlow/lib/python3.5/site-packages/ipykernel/kernelbase.py\", line 235, in dispatch_shell\n    handler(stream, idents, msg)\n  File \"/home/lsda/TensorFlow/lib/python3.5/site-packages/ipykernel/kernelbase.py\", line 399, in execute_request\n    user_expressions, allow_stdin)\n  File \"/home/lsda/TensorFlow/lib/python3.5/site-packages/ipykernel/ipkernel.py\", line 196, in do_execute\n    res = shell.run_cell(code, store_history=store_history, silent=silent)\n  File \"/home/lsda/TensorFlow/lib/python3.5/site-packages/ipykernel/zmqshell.py\", line 533, in run_cell\n    return super(ZMQInteractiveShell, self).run_cell(*args, **kwargs)\n  File \"/home/lsda/TensorFlow/lib/python3.5/site-packages/IPython/core/interactiveshell.py\", line 2698, in run_cell\n    interactivity=interactivity, compiler=compiler, result=result)\n  File \"/home/lsda/TensorFlow/lib/python3.5/site-packages/IPython/core/interactiveshell.py\", line 2802, in run_ast_nodes\n    if self.run_code(code, result):\n  File \"/home/lsda/TensorFlow/lib/python3.5/site-packages/IPython/core/interactiveshell.py\", line 2862, in run_code\n    exec(code_obj, self.user_global_ns, self.user_ns)\n  File \"<ipython-input-20-e9847e0e61aa>\", line 5, in <module>\n    x_data = tf.placeholder(shape=[None, inDim], dtype=tf.float32, name='input')\n  File \"/home/lsda/TensorFlow/lib/python3.5/site-packages/tensorflow/python/ops/array_ops.py\", line 1507, in placeholder\n    name=name)\n  File \"/home/lsda/TensorFlow/lib/python3.5/site-packages/tensorflow/python/ops/gen_array_ops.py\", line 1997, in _placeholder\n    name=name)\n  File \"/home/lsda/TensorFlow/lib/python3.5/site-packages/tensorflow/python/framework/op_def_library.py\", line 768, in apply_op\n    op_def=op_def)\n  File \"/home/lsda/TensorFlow/lib/python3.5/site-packages/tensorflow/python/framework/ops.py\", line 2336, in create_op\n    original_op=self._default_original_op, op_def=op_def)\n  File \"/home/lsda/TensorFlow/lib/python3.5/site-packages/tensorflow/python/framework/ops.py\", line 1228, in __init__\n    self._traceback = _extract_stack()\n\nInvalidArgumentError (see above for traceback): You must feed a value for placeholder tensor 'input_8' with dtype float\n\t [[Node: input_8 = Placeholder[dtype=DT_FLOAT, shape=[], _device=\"/job:localhost/replica:0/task:0/cpu:0\"]()]]\n"
     ]
    }
   ],
   "source": [
    "# Initialize variables\n",
    "init = tf.global_variables_initializer()\n",
    "sess.run(init)\n",
    "\n",
    "# Best validation accuracy seen so far\n",
    "bestValidation = 0.0\n",
    "\n",
    "# Mini-batches for training\n",
    "batcher = Batcher((X_train,y_train), FLAGS.batchSize)\n",
    "\n",
    "# Training loop\n",
    "for i in range(FLAGS.maxIter):\n",
    "    xTrain, yTrain = batcher.nextBatch()\n",
    "    #from IPython.core.debugger import Pdb; Pdb().set_trace()\n",
    "    sess.run(train_step, feed_dict={x_data: xTrain, y_target: np.transpose([yTrain])})\n",
    "    summary = sess.run(merged, feed_dict={x_data: xTrain, y_target: np.transpose([yTrain])})\n",
    "    train_writer.add_summary(summary, i)\n",
    "    if((i+1)%100==0):\n",
    "        print(\"Iteration:\",i+1,\"/\",FLAGS.maxIter)\n",
    "        summary = sess.run(merged, feed_dict={x_data: X_test, y_target: np.transpose([y_test])})\n",
    "        test_writer.add_summary(summary, i)\n",
    "        #currentValidation, summary = sess.run([accuracy, merged], feed_dict={x_data: X_vd, y_target: np.transpose([y_vd])})\n",
    "        validate_writer.add_summary(summary, i)\n",
    "        if(currentValidation > bestValidation):\n",
    "            bestValidation = currentValidation\n",
    "            saver.save(sess=sess, save_path=FLAGS.summary_dir + '/bestNetwork')\n",
    "            print(\"\\tbetter network stored,\",currentValidation,\">\",bestValidation)\n",
    "\n",
    "# Print values after last training step\n",
    "print(\"final training accuracy:\", sess.run(accuracy, feed_dict={x_data: X_train, y_target: np.transpose([y_train])}),\n",
    "      \"final test accuracy: \", sess.run(accuracy, feed_dict={x_data: X_test, y_target: np.transpose([y_test])}),\n",
    "      \"final validation accuracy: \", sess.run(accuracy, feed_dict={x_data: X_vd, y_target: np.transpose([y_vd])}))\n",
    "\n",
    "# Load the network with the lowest validation error\n",
    "saver.restore(sess=sess, save_path=FLAGS.summary_dir + '/bestNetwork')\n",
    "print(\"best training accuracy:\", sess.run(accuracy, feed_dict={x_data: X_train, y_target: np.transpose([y_train])}),\n",
    "      \"best test accuracy: \", sess.run(accuracy, feed_dict={x_data: X_test, y_target: np.transpose([y_test])}),\n",
    "      \"best validation accuracy: \", sess.run(accuracy, feed_dict={x_data: X_vd, y_target: np.transpose([y_vd])}))\n"
   ]
  },
  {
   "cell_type": "code",
   "execution_count": null,
   "metadata": {
    "collapsed": true
   },
   "outputs": [],
   "source": []
  }
 ],
 "metadata": {
  "kernelspec": {
   "display_name": "Python 3",
   "language": "python",
   "name": "python3"
  },
  "language_info": {
   "codemirror_mode": {
    "name": "ipython",
    "version": 3
   },
   "file_extension": ".py",
   "mimetype": "text/x-python",
   "name": "python",
   "nbconvert_exporter": "python",
   "pygments_lexer": "ipython3",
   "version": "3.5.2"
  }
 },
 "nbformat": 4,
 "nbformat_minor": 2
}
